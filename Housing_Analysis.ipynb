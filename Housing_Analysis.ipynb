{
 "cells": [
  {
   "cell_type": "markdown",
   "id": "55de80b9",
   "metadata": {},
   "source": [
    "### NOTES\n",
    "- Exported data from zillow itself\n",
    "- Has 820 records\n",
    "- Limited price to 600,000 to avoid data from being too skewed and is range of house I am looking for. \n",
    "- Data is only for the Tarrant County Area\n"
   ]
  },
  {
   "cell_type": "code",
   "execution_count": 161,
   "id": "67eae8d1",
   "metadata": {},
   "outputs": [
    {
     "data": {
      "text/html": [
       "<div>\n",
       "<style scoped>\n",
       "    .dataframe tbody tr th:only-of-type {\n",
       "        vertical-align: middle;\n",
       "    }\n",
       "\n",
       "    .dataframe tbody tr th {\n",
       "        vertical-align: top;\n",
       "    }\n",
       "\n",
       "    .dataframe thead th {\n",
       "        text-align: right;\n",
       "    }\n",
       "</style>\n",
       "<table border=\"1\" class=\"dataframe\">\n",
       "  <thead>\n",
       "    <tr style=\"text-align: right;\">\n",
       "      <th></th>\n",
       "      <th>Property URL</th>\n",
       "      <th>Listing description</th>\n",
       "      <th>Property type</th>\n",
       "      <th>Number of days on Zillow</th>\n",
       "      <th>Date listed (MM/DD/YYYY)</th>\n",
       "      <th>Property price (USD)</th>\n",
       "      <th>Living area</th>\n",
       "      <th>Living area unit</th>\n",
       "      <th>Price per living area unit (USD)</th>\n",
       "      <th>Lot/land area</th>\n",
       "      <th>Lot/land area unit</th>\n",
       "      <th>Bedrooms</th>\n",
       "      <th>Bathrooms</th>\n",
       "      <th>Street address</th>\n",
       "      <th>City</th>\n",
       "      <th>Zip</th>\n",
       "      <th>Latitude</th>\n",
       "      <th>Longitude</th>\n",
       "      <th>Zestimate (USD)</th>\n",
       "    </tr>\n",
       "  </thead>\n",
       "  <tbody>\n",
       "    <tr>\n",
       "      <th>0</th>\n",
       "      <td>https://www.zillow.com/homedetails/7525-Maple-...</td>\n",
       "      <td>House for sale</td>\n",
       "      <td>Single Family</td>\n",
       "      <td>3</td>\n",
       "      <td>06/21/2025</td>\n",
       "      <td>259900</td>\n",
       "      <td>1148</td>\n",
       "      <td>sqft</td>\n",
       "      <td>226.39</td>\n",
       "      <td>8263.33</td>\n",
       "      <td>sqft</td>\n",
       "      <td>3</td>\n",
       "      <td>2</td>\n",
       "      <td>7525 Maple Dr</td>\n",
       "      <td>North Richland Hills</td>\n",
       "      <td>76180</td>\n",
       "      <td>32.854603</td>\n",
       "      <td>-97.218960</td>\n",
       "      <td>253200.0</td>\n",
       "    </tr>\n",
       "    <tr>\n",
       "      <th>1</th>\n",
       "      <td>https://www.zillow.com/homedetails/5361-Brentl...</td>\n",
       "      <td>House for sale</td>\n",
       "      <td>Single Family</td>\n",
       "      <td>5</td>\n",
       "      <td>06/19/2025</td>\n",
       "      <td>285000</td>\n",
       "      <td>1550</td>\n",
       "      <td>sqft</td>\n",
       "      <td>183.87</td>\n",
       "      <td>5749.92</td>\n",
       "      <td>sqft</td>\n",
       "      <td>3</td>\n",
       "      <td>2</td>\n",
       "      <td>5361 Brentlawn Dr</td>\n",
       "      <td>Fort Worth</td>\n",
       "      <td>76179</td>\n",
       "      <td>32.859410</td>\n",
       "      <td>-97.404350</td>\n",
       "      <td>281800.0</td>\n",
       "    </tr>\n",
       "    <tr>\n",
       "      <th>2</th>\n",
       "      <td>https://www.zillow.com/homedetails/6524-Sherid...</td>\n",
       "      <td>House for sale</td>\n",
       "      <td>Single Family</td>\n",
       "      <td>4</td>\n",
       "      <td>06/20/2025</td>\n",
       "      <td>315000</td>\n",
       "      <td>2231</td>\n",
       "      <td>sqft</td>\n",
       "      <td>141.19</td>\n",
       "      <td>8189.28</td>\n",
       "      <td>sqft</td>\n",
       "      <td>4</td>\n",
       "      <td>3</td>\n",
       "      <td>6524 Sheridan Cir</td>\n",
       "      <td>Arlington</td>\n",
       "      <td>76017</td>\n",
       "      <td>32.662193</td>\n",
       "      <td>-97.210686</td>\n",
       "      <td>313900.0</td>\n",
       "    </tr>\n",
       "    <tr>\n",
       "      <th>3</th>\n",
       "      <td>https://www.zillow.com/homedetails/3905-Vernon...</td>\n",
       "      <td>House for sale</td>\n",
       "      <td>Single Family</td>\n",
       "      <td>5</td>\n",
       "      <td>06/19/2025</td>\n",
       "      <td>490000</td>\n",
       "      <td>3151</td>\n",
       "      <td>sqft</td>\n",
       "      <td>155.51</td>\n",
       "      <td>7187.40</td>\n",
       "      <td>sqft</td>\n",
       "      <td>4</td>\n",
       "      <td>3</td>\n",
       "      <td>3905 Vernon Way</td>\n",
       "      <td>Fort Worth</td>\n",
       "      <td>76244</td>\n",
       "      <td>32.910053</td>\n",
       "      <td>-97.301120</td>\n",
       "      <td>484200.0</td>\n",
       "    </tr>\n",
       "    <tr>\n",
       "      <th>4</th>\n",
       "      <td>https://www.zillow.com/homedetails/1039-Spring...</td>\n",
       "      <td>House for sale</td>\n",
       "      <td>Single Family</td>\n",
       "      <td>8</td>\n",
       "      <td>06/16/2025</td>\n",
       "      <td>270000</td>\n",
       "      <td>1394</td>\n",
       "      <td>sqft</td>\n",
       "      <td>193.69</td>\n",
       "      <td>6359.76</td>\n",
       "      <td>sqft</td>\n",
       "      <td>3</td>\n",
       "      <td>2</td>\n",
       "      <td>1039 Spring Hill Dr</td>\n",
       "      <td>Saginaw</td>\n",
       "      <td>76179</td>\n",
       "      <td>32.856403</td>\n",
       "      <td>-97.385040</td>\n",
       "      <td>264300.0</td>\n",
       "    </tr>\n",
       "  </tbody>\n",
       "</table>\n",
       "</div>"
      ],
      "text/plain": [
       "                                        Property URL Listing description  \\\n",
       "0  https://www.zillow.com/homedetails/7525-Maple-...      House for sale   \n",
       "1  https://www.zillow.com/homedetails/5361-Brentl...      House for sale   \n",
       "2  https://www.zillow.com/homedetails/6524-Sherid...      House for sale   \n",
       "3  https://www.zillow.com/homedetails/3905-Vernon...      House for sale   \n",
       "4  https://www.zillow.com/homedetails/1039-Spring...      House for sale   \n",
       "\n",
       "   Property type  Number of days on Zillow Date listed (MM/DD/YYYY)  \\\n",
       "0  Single Family                         3               06/21/2025   \n",
       "1  Single Family                         5               06/19/2025   \n",
       "2  Single Family                         4               06/20/2025   \n",
       "3  Single Family                         5               06/19/2025   \n",
       "4  Single Family                         8               06/16/2025   \n",
       "\n",
       "   Property price (USD)  Living area Living area unit  \\\n",
       "0                259900         1148             sqft   \n",
       "1                285000         1550             sqft   \n",
       "2                315000         2231             sqft   \n",
       "3                490000         3151             sqft   \n",
       "4                270000         1394             sqft   \n",
       "\n",
       "   Price per living area unit (USD)  Lot/land area Lot/land area unit  \\\n",
       "0                            226.39        8263.33               sqft   \n",
       "1                            183.87        5749.92               sqft   \n",
       "2                            141.19        8189.28               sqft   \n",
       "3                            155.51        7187.40               sqft   \n",
       "4                            193.69        6359.76               sqft   \n",
       "\n",
       "   Bedrooms  Bathrooms       Street address                  City    Zip  \\\n",
       "0         3          2        7525 Maple Dr  North Richland Hills  76180   \n",
       "1         3          2    5361 Brentlawn Dr            Fort Worth  76179   \n",
       "2         4          3    6524 Sheridan Cir             Arlington  76017   \n",
       "3         4          3      3905 Vernon Way            Fort Worth  76244   \n",
       "4         3          2  1039 Spring Hill Dr               Saginaw  76179   \n",
       "\n",
       "    Latitude  Longitude  Zestimate (USD)  \n",
       "0  32.854603 -97.218960         253200.0  \n",
       "1  32.859410 -97.404350         281800.0  \n",
       "2  32.662193 -97.210686         313900.0  \n",
       "3  32.910053 -97.301120         484200.0  \n",
       "4  32.856403 -97.385040         264300.0  "
      ]
     },
     "execution_count": 161,
     "metadata": {},
     "output_type": "execute_result"
    }
   ],
   "source": [
    "import pandas as pd\n",
    "import seaborn as sns\n",
    "import matplotlib.pyplot as plt\n",
    "import plotly.express as px\n",
    "\n",
    "df = pd.read_csv(\"Zillow_Properties_Houses_06_2025.csv\")\n",
    "df = df.drop(columns=[\"MLS ID\", \"State\", \"Country\"]) # Drop Columns I will not need is not useful to me\n",
    "df.head()"
   ]
  },
  {
   "cell_type": "code",
   "execution_count": 162,
   "id": "a201f1b9",
   "metadata": {},
   "outputs": [
    {
     "name": "stdout",
     "output_type": "stream",
     "text": [
      "<class 'pandas.core.frame.DataFrame'>\n",
      "RangeIndex: 820 entries, 0 to 819\n",
      "Data columns (total 19 columns):\n",
      " #   Column                            Non-Null Count  Dtype  \n",
      "---  ------                            --------------  -----  \n",
      " 0   Property URL                      820 non-null    object \n",
      " 1   Listing description               820 non-null    object \n",
      " 2   Property type                     820 non-null    object \n",
      " 3   Number of days on Zillow          820 non-null    int64  \n",
      " 4   Date listed (MM/DD/YYYY)          820 non-null    object \n",
      " 5   Property price (USD)              820 non-null    int64  \n",
      " 6   Living area                       820 non-null    int64  \n",
      " 7   Living area unit                  820 non-null    object \n",
      " 8   Price per living area unit (USD)  820 non-null    float64\n",
      " 9   Lot/land area                     818 non-null    float64\n",
      " 10  Lot/land area unit                818 non-null    object \n",
      " 11  Bedrooms                          820 non-null    int64  \n",
      " 12  Bathrooms                         820 non-null    int64  \n",
      " 13  Street address                    820 non-null    object \n",
      " 14  City                              820 non-null    object \n",
      " 15  Zip                               820 non-null    int64  \n",
      " 16  Latitude                          820 non-null    float64\n",
      " 17  Longitude                         820 non-null    float64\n",
      " 18  Zestimate (USD)                   602 non-null    float64\n",
      "dtypes: float64(5), int64(6), object(8)\n",
      "memory usage: 121.8+ KB\n"
     ]
    }
   ],
   "source": [
    "df.info()"
   ]
  },
  {
   "cell_type": "markdown",
   "id": "4a369700",
   "metadata": {},
   "source": [
    "# Clean the Dataset"
   ]
  },
  {
   "cell_type": "code",
   "execution_count": 163,
   "id": "159fa854",
   "metadata": {},
   "outputs": [
    {
     "name": "stdout",
     "output_type": "stream",
     "text": [
      "<class 'pandas.core.frame.DataFrame'>\n",
      "Index: 600 entries, 0 to 816\n",
      "Data columns (total 19 columns):\n",
      " #   Column                            Non-Null Count  Dtype  \n",
      "---  ------                            --------------  -----  \n",
      " 0   Property URL                      600 non-null    object \n",
      " 1   Listing description               600 non-null    object \n",
      " 2   Property type                     600 non-null    object \n",
      " 3   Number of days on Zillow          600 non-null    int64  \n",
      " 4   Date listed (MM/DD/YYYY)          600 non-null    object \n",
      " 5   Property price (USD)              600 non-null    int64  \n",
      " 6   Living area                       600 non-null    int64  \n",
      " 7   Living area unit                  600 non-null    object \n",
      " 8   Price per living area unit (USD)  600 non-null    float64\n",
      " 9   Lot/land area                     600 non-null    float64\n",
      " 10  Lot/land area unit                600 non-null    object \n",
      " 11  Bedrooms                          600 non-null    int64  \n",
      " 12  Bathrooms                         600 non-null    int64  \n",
      " 13  Street address                    600 non-null    object \n",
      " 14  City                              600 non-null    object \n",
      " 15  Zip                               600 non-null    int64  \n",
      " 16  Latitude                          600 non-null    float64\n",
      " 17  Longitude                         600 non-null    float64\n",
      " 18  Zestimate (USD)                   600 non-null    float64\n",
      "dtypes: float64(5), int64(6), object(8)\n",
      "memory usage: 93.8+ KB\n"
     ]
    }
   ],
   "source": [
    "cleaned_df = df.dropna()\n",
    "cleaned_df.info()\n"
   ]
  },
  {
   "cell_type": "markdown",
   "id": "f31efc8a",
   "metadata": {},
   "source": [
    "# Houses in each city"
   ]
  },
  {
   "cell_type": "code",
   "execution_count": 164,
   "id": "ed8c6d80",
   "metadata": {},
   "outputs": [
    {
     "data": {
      "text/plain": [
       "<Axes: xlabel='City'>"
      ]
     },
     "execution_count": 164,
     "metadata": {},
     "output_type": "execute_result"
    },
    {
     "data": {
      "image/png": "[encoded data removed]",
      "text/plain": [
       "<Figure size 640x480 with 1 Axes>"
      ]
     },
     "metadata": {},
     "output_type": "display_data"
    }
   ],
   "source": [
    "cleaned_df[\"City\"].value_counts().plot(kind=\"bar\")\n",
    "\n",
    "\n",
    "# WILL NEED TO COMBINE SOME OF THE CITY TOGETHER SINCE THEY ARE DUPLICATE CITIES"
   ]
  },
  {
   "cell_type": "markdown",
   "id": "a2271301",
   "metadata": {},
   "source": [
    "# Distribution of SQFT "
   ]
  },
  {
   "cell_type": "code",
   "execution_count": 165,
   "id": "909f9a66",
   "metadata": {},
   "outputs": [
    {
     "data": {
      "text/plain": [
       "<Axes: ylabel='Frequency'>"
      ]
     },
     "execution_count": 165,
     "metadata": {},
     "output_type": "execute_result"
    },
    {
     "data": {
      "image/png": "[encoded data removed]",
      "text/plain": [
       "<Figure size 640x480 with 1 Axes>"
      ]
     },
     "metadata": {},
     "output_type": "display_data"
    }
   ],
   "source": [
    "cleaned_df[\"Living area\"].plot(kind=\"hist\")"
   ]
  },
  {
   "cell_type": "code",
   "execution_count": 166,
   "id": "16e6c1bb",
   "metadata": {},
   "outputs": [
    {
     "data": {
      "text/plain": [
       "<Axes: xlabel='Living area'>"
      ]
     },
     "execution_count": 166,
     "metadata": {},
     "output_type": "execute_result"
    },
    {
     "data": {
      "image/png": "[encoded data removed]",
      "text/plain": [
       "<Figure size 640x480 with 1 Axes>"
      ]
     },
     "metadata": {},
     "output_type": "display_data"
    }
   ],
   "source": [
    "sns.boxplot(data=cleaned_df, x=\"Living area\")"
   ]
  },
  {
   "cell_type": "markdown",
   "id": "3f0f4fb0",
   "metadata": {},
   "source": [
    "# Distribution of the House Prices"
   ]
  },
  {
   "cell_type": "code",
   "execution_count": 167,
   "id": "0a416298",
   "metadata": {},
   "outputs": [
    {
     "data": {
      "text/plain": [
       "<Axes: ylabel='Frequency'>"
      ]
     },
     "execution_count": 167,
     "metadata": {},
     "output_type": "execute_result"
    },
    {
     "data": {
      "image/png": "[encoded data removed]",
      "text/plain": [
       "<Figure size 640x480 with 1 Axes>"
      ]
     },
     "metadata": {},
     "output_type": "display_data"
    }
   ],
   "source": [
    "cleaned_df[\"Property price (USD)\"].plot(kind=\"hist\")"
   ]
  },
  {
   "cell_type": "code",
   "execution_count": 168,
   "id": "d43f7b6c",
   "metadata": {},
   "outputs": [
    {
     "data": {
      "text/plain": [
       "<Axes: xlabel='Property price (USD)'>"
      ]
     },
     "execution_count": 168,
     "metadata": {},
     "output_type": "execute_result"
    },
    {
     "data": {
      "image/png": "[encoded data removed]",
      "text/plain": [
       "<Figure size 640x480 with 1 Axes>"
      ]
     },
     "metadata": {},
     "output_type": "display_data"
    }
   ],
   "source": [
    "sns.boxplot(data=cleaned_df, x=\"Property price (USD)\")"
   ]
  },
  {
   "cell_type": "markdown",
   "id": "c68550e8",
   "metadata": {},
   "source": [
    "# House Locations"
   ]
  },
  {
   "cell_type": "code",
   "execution_count": 169,
   "id": "d6de1806",
   "metadata": {},
   "outputs": [
    {
     "name": "stderr",
     "output_type": "stream",
     "text": [
      "C:\\Users\\kerom\\AppData\\Local\\Temp\\ipykernel_15152\\2520171450.py:1: DeprecationWarning:\n",
      "\n",
      "*scatter_mapbox* is deprecated! Use *scatter_map* instead. Learn more at: https://plotly.com/python/mapbox-to-maplibre/\n",
      "\n"
     ]
    },
    {
     "data": {
      "application/vnd.plotly.v1+json": {
       "config": {
        "plotlyServerURL": "https://plot.ly"
       },
       "data": [
        {
         "hovertemplate": "Latitude=%{lat}<br>Longitude=%{lon}<extra></extra>",
         "lat": {
          "bdata": "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",
          "dtype": "f8"
         },
         "legendgroup": "",
         "lon": {
          "bdata": "dcjNcANOWMDOiNLe4FlYwGfuIeF7TVjA+grSjEVTWMC46c9+pFhYwP5g4Ln3VFjAVDpY/+dCWMAB9zx/2lRYwOjewyXHW1jAC9KMRdNhWMDrOel940RYwKBTkJ+NWljAon+CixVTWMC9UpYhjktYwCXpmsk3T1jAeXWOAdlXWMBXBP9byVxYwJXx7zMuUFjAvR3htOBfWMBTP28qUlFYwB2rlJ7pU1jAxm00gLdfWMCuKvuuCE5YwDYC8bp+V1jAirDh6ZVMWMB+42vPLFNYwCLDKt7IYFjAKy/5n/xFWMBglKC/0EVYwD0nvW98UVjAwAmFCDhMWMBiFW9kHkdYwB+/t+nPUljABARz9PhVWMAep+hILl9YwHRGlPYGT1jACi5W1GBaWMD1ona/CkhYwHGsi9toTljAI4RHG0dSWMCBsilXeFFYwEhQ/BhzV1jAeXWOAdlXWMDV7IFWYFxYwO571F+vWFjAml/NAYJOWMCCixU1mFJYwAbYR6euRljAtyizQSZKWMDhQEgWMFNYwNWytb5ISVjAEHo2qz5ZWMDPa+wS1UdYwEj+YOC5WFjA8MAAwodOWMDtuyL431BYwAhVavZAWVjAU+i8xi5ZWMAWak3zjkdYwE563/jaR1jA+z+H+fJYWMDMKJZbWk9YwFIP0egOUljAe2ZJgJpMWMCzzY3pCVdYwE6c3O9QTFjAZcIv9fNWWMD0GrtE9VRYwGE3bFuUYVjAU+i8xi5LWMBvKlJhbFpYwI/f2/RnVVjAM6fLYmJNWMDZlCu8y1lYwGXkLOxpW1jAvR3htOBNWMByM9yAz0lYwAfTMHxEWljAmSoYldRZWMDpYP2fw0VYwFjiAWVTUFjATfilft5GWMBEv7Z++kVYwD19BP7wYVjA1XjpJjFcWMCY3ZOHhUxYwOkmMQisUljAYcPTK2VVWMDLnZlgOFlYwGlSCrq9WFjAbef7qfFKWMAOMsnIWWBYwPphhPBoT1jAVwkWhzNNWMCsyr4rgllYwExPWOIBW1jAeVioNc1JWMBi+IiYElVYwGzrp/+sYVjAPPceLjlGWMD+DkWBPlJYwCkF3V7STljABwySPq1SWMCbOLnfoUNYwB8uOe6UWljAppvEILBEWMB9XBsqxkdYwMFVnkDYVVjAibSNP1FZWMCZ02UxsVtYwKnZA63AWFjABi/6CtJSWMDWVuwvu1VYwCP430p2WFjA5dAi2/lQWMC/YDdsW0hYwCJUqdkDTVjAoWez6nNbWMDR6A5iZ1ZYwMI0DB8RS1jAkx0bgXhJWMBY/+cwX1pYwCdO7ncoVljATODW3TxNWMC7Cik/qVNYwLFQa5p3TFjA5DCYv0JIWMDeA3RfzkhYwO2fpwGDRFjAzvxqDhBgWMBkr3d/vE9YwMmOjUC8TVjArBxaZDtJWMCQTl35LFlYwNNqSNxjV1jASWjLuRRHWMA+ldOekk1YwIf58gLsW1jAxvmbUIhEWMCNf59x4VBYwP32deCcUVjAu37BbthOWMDWrDO+L0RYwAltOZfiVljA+ptQiIBHWMDbiv1l90hYwDuNtFTeXljAJV0z+WZdWMBz9Pi9TV9YwOtunuqQT1jAMEeP39tRWMA+syRATUJYwBcrajANUVjAFajF4GFIWMC+E7NeDFpYwLcKYqBrQ1jATTJyFvZYWMDz5QXYR1NYwFd5AmGnWFjAke18PzVKWMCTxmgdVVVYwNvEyf0OWVjA9mIoJ9pXWMBq+1dWmkpYwAn+t5IdX1jACRaHM79UWMA0SwLU1FZYwBb2tMNfVVjAU8vW+iJTWMD/snvysFBYwC81Qj9TS1jAyuAoeXVSWMD60AX1LVlYwIsyG2SSQ1jA5ZttbkxNWMDXEvJBz1dYwG2tLxLaSljANsgkI2dRWMBiSiTRy0xYwOdvQiECS1jAlBPtKqRMWMAXK2owDUlYwDEIrBxaVljA8u8zLhxIWMCTxmgdVUdYwG3KFd7lR1jASL99HThRWMC1FfvL7mFYwFFn7iHhWVjA2UKQgxJaWMAdA7LXu1dYwCS05VyKRVjAwHgGDf1FWMBA2v8Aa01YwI4B2evdV1jApKoJou5SWMBuTE9Y4lFYwB6n6EguWVjAB9MwfERCWMAEOShhpk5YwHO6LCY2S1jAyNKHLqhHWMB81cqEX0RYwJXUCWgiSljA+8xZn3JYWMANiXssfVhYwP/PYb68WljA+tAF9S1NWMAe4bTgRVBYwLXDX5M1UljAd2fttgtbWMA4+MJkqkxYwESn591YRFjAfm/Tn/1FWMCFsYUgB0ZYwNUhN8MNSFjAXHLcKR1cWMBzhXe5iEtYwD6uDRXjVljAw/UoXI9WWMDr4jYawFlYwF2nkZbKT1jAZK93f7xVWMCk374OnEtYwNDQP8HFXFjAsktUbw1KWMAiN8MN+FhYwDgVqTC2RFjAPbg7a7dRWMBRFOgTeVJYwEoH6/8cWljAXDgQkgVUWMCb/uxHikhYwDDw3Hu4SljAgEi/fR1IWMB6bMuAs0JYwMed0sH6TFjAqfbpeMxWWMC3ek5632BYwIy5awn5YFjAeQYN/RNOWMBH5pE/GFVYwKMeotEdTFjA3gN0X85OWMDBi76CNFdYwKIL6lvmRljAkgVM4NZLWMCb/uxHilZYwCntDb4wUVjAcF8HzhlLWMASvYxiuVVYwAvvchHfUVjAEarU7IFaWMDiAWVTrkZYwMA9z582UljAe2ZJgJpJWMATnPpA8kZYwG05l+KqWFjA85Nqn45DWMDAeAYN/UtYwILK+PcZW1jARdREn49CWMBfmEwVjEZYwKhSswdaWVjASS7/If1YWMC3KLNBJkhYwGxblNkgWVjAVrd6TnpZWMC5GW7A51lYwGr3qwDfR1jAwlHy6hxLWMC/K4L/rUNYwA6hSs0eYljAPQ/uztpPWMBa9bnail1YwMOC+wEPWFjAMxtkkpFNWMB2bATidVZYwPWhC+pbWljAk1fnGJBNWMBXPsvz4FhYwI+lD11QWVjALSY2H9ddWMAIILWJk0dYwHctIR/0TljAoGzKFd5HWMBdixagbVVYwHl1jgHZV1jArvVFQltGWMAuBDkoYVJYwHnpJjEIWljA9wFIbeJaWMDRkVz+Q1VYwNi2KLNBWljAueNNfotKWMAh5SfVPlFYwMRCrWneW1jAx4Ds9e5DWMCSBUzg1kpYwAggtYmTTVjAr+yCwTVPWMD2Yign2kNYwJEPejarXljA58b0hCVYWMCm8naE01hYwNk9eVioR1jAaam8HeFWWMC0k8FR8lBYwJCIKZFESVjAQfLOoQxVWMCdY0D2ellYwK3AkNWtUljAfH4YITxSWMDDgZAsYEpYwO6UDtb/S1jAUitM32tEWMCJtfgUAFtYwDaTb7a5W1jArkfhehRMWMDL2xFOC1pYwEvpmV5iTFjAWVGDaRhQWMDaA63AkEJYwEnXTL7ZV1jASWO0jqpcWMC94xQdyVFYwKHbSxqjW1jAGqN1VDVHWMC0Hykiw1RYwIhLjjulQ1jAKbNBJhlVWMAxmSoYlVxYwOIGfH4YSVjAqtTsgVZRWMAxJZLoZU5YwEZ8J2a9WFjAXfksz4NbWMB5zEBl/E1YwEOQgxJmRljArTQpBd1cWMD68gLso1lYwB+i0R3ESFjAJ71vfO1VWMDghEIEHE5YwBakGYumT1jAychZ2NNKWMAu/yH99ldYwPrPmh9/VVjAPbmmQGZPWMBDOdGuQlBYwJ268lmeYVjArKjBNAxRWMB2GmmpvElYwCU7NgLxUljAm1YKgVxOWMAxmSoYlVBYwEjElEiiSVjACRUcXhBDWMDI7236s01YwCBj7lpCTFjAXTP5ZptZWMAc8PlhhFVYwFafq63YVVjA8x/Sb19dWMDGhQMhWVxYwAOy17s/TljA7xtfe2ZTWMDWOQZkr0dYwJM16iEaTljAeCefHttUWMCx4emVslJYwBsv3SQGWVjAxcn9DkVbWMBhjh6/t05YwJfFxObjUFjAvvbMkgBZWMAFwHgGDU1YwLJLVG8NTljArmTHRiBSWMAC2evdH1hYwFnd6jnpVVjAuAa2SrBKWMBIp658lk9YwJijx+9tXFjAH9eGinFGWMA9uDtrt1tYwJNvtrkxYVjAzt+EQgRYWMA90XXhB11YwLEzhc5rUFjA9l0R/G9RWMCbrFEP0UpYwHrCEg8oSVjAQlvOpbhiWMAsn+V5cFdYwKN1VDVBRFjAmGn7V1ZMWMC/Q1GgT05YwBN+qZ83T1jALXjRV5BGWMAtYAK37kRYwM6luKrsT1jAIbByaJFdWMAoYabtX1FYwMUbmUf+UljAdVq3Qe1dWMAeM1AZ/1hYwHCUvDrHUFjAjjulg/VNWMDdmJ6wxE9YwE0uxsA6TFjAXBsqxvlXWMBGzsKedl1YwC/6CtKMWVjAzH9Iv31HWMBHrMWnAGJYwFH3AUhtUljAN/3ZjxRfWMBXCRaHM1dYwLHh6ZWyVljAU+i8xi5VWMC693DJcU1YwNPB+j+HUFjAJhqk4ClYWMAK16NwPVxYwBqojH+fXFjARrbz/dRJWMA1Y9F0dkRYwBGN7iB2RljAXYqryr5PWMClg/V/DllYwHo2qz5XTVjAOBWpMLZEWMBoy7kUV1lYwMFu2LYoUVjAOGvwvipTWMD2C3bDtlVYwHtJY7SORljAtoR80LNbWMBjRQ2mYV5YwFuaWyGsWFjAGedvQiFKWMBmvRjKiWBYwIvgfyvZS1jAMqzijcxJWMAB+n3/5lFYwJ+T3je+SljAjErqBDRJWMBQqn06HkVYwCrG+ZtQWljAbEPFOH9TWMCD+pY5XUhYwDFfXoB9UVjAnS6Lic1fWMAa3UHsTEtYwHHJcad0YljA61c6H55bWMC7K7tgcFVYwIUlHlA2SVjAEhQ/xtxDWMAeG4F4XVVYwIlBYOXQSljAfSJPkq5VWMBeS8gHPVNYwG4YBcHjVVjAgUOoUrNFWMAb2CrB4llYwI9wWvCiV1jA4xjJHqFSWMAOhGQBE1JYwEVkWMUbSVjA3h/vVStRWMBApN++DkNYwAH20akrQ1jAf9k9eVhIWMCKzce1oUpYwJIjnYGRS1jAU3k7wmlVWMCH3Aw34FFYwN4f71UrWVjA9u6P96pRWMDCwHPv4UZYwJpfzQGCTVjAVACMZ9BUWMD7rgj+t1VYwNf6IqEtWljAVkj5SbVXWMBzhXe5iFlYwNWVz/I8WFjA9KYiFcZYWMAJM23/ylJYwHB31m67WFjAmWTkLOxXWMB87ZklAUpYwEdVE0TdX1jAiLoPQGphWMBblNkgk1lYwPuuCP63TVjAV7JjIxBTWMD7zFmfclpYwIyEtpxLVVjAyR8MPPdgWMAHsTOFzlVYwFuxv+yeRFjABMqmXOFNWMCmRBK9jFpYwE0VjErqUFjAIEHxY8xHWMAom3KFd1FYwBFvnX+7XFjAqrcGtkpgWMBCPujZrEJYwP6arFEPUVjA3Qw34PNEWMA7jEl/L0lYwB7htOBFQljA85Nqn45TWMDU00fgD1tYwDGx+bg2SFjA/IwLB0JIWMDQmh9/aUlYwEa28/3UVVjAQdR9AFJhWMCCrRIsDlVYwBqjdVQ1Q1jA+wW7YdtTWMD9TShEwEVYwAMJih9jTljA/N6mP/tGWMDIBz2bVVNYwBGN7iB2R1jAm3KFd7lCWMA+y/Pg7ldYwPryAuyjS1jA4KEo0CdSWMBxICQLmEhYwEQ0uoPYW1jALlbUYBpNWMC0AkNWt1pYwHAJwD+lUljAEojX9QtSWMAwZHWr50RYwKmkTkATWFjAjswjfzBVWMA8g4b+CUVYwHh/vFetTFjAVmEzwAVPWMA9RKM7iE9YwD3VITfDWVjAjPM3oRBSWMCfWRKgplVYwA74/DBCXFjAC170FaRXWMBWZd8VwVVYwExUbw1sUVjArir7rghOWMAi4Xt/g1hYwBwlr84xWljAWW3+X3VQWMBehZSfVEJYwMR3YtaLTVjAgpAsYAJRWMAVHcnlP1ZYwKyL22gAUVjAnUZaKm9hWMAs1JrmHVVYwE65wrtcRFjAlj50QX1HWMA6r7FLVEdYwFQ1QdR9WFjAVRhbCHJYWMDedqG5Tk9YwOiC+pY5U1jALuI7MetVWMCduvJZnk9YwJjdk4eFRljAaAWGrG5FWMCbyTfb3FBYwN/gC5OpXljA5ssLsI9MWMAsn+V5cE9YwAVR9wFIRljA/iYUIuBYWMBeY5eo3lxYwCqRRC+jSFjAFr1TAfdYWMBT6LzGLkNYwDqSy39IRljAJV0z+WZJWMAB++jUlVNYwFK4HoXrWVjAcTjzqzlQWMBk5ZfBGE9YwOcYkL3eVVjA6dSVz/JOWMC4WFGDaUZYwJY+dEF9TljAol2FlJ9KWMCFz9bBwWBYwJeQD3o2UVjA",
          "dtype": "f8"
         },
         "marker": {
          "color": "#636efa"
         },
         "mode": "markers",
         "name": "",
         "showlegend": false,
         "subplot": "mapbox",
         "type": "scattermapbox"
        }
       ],
       "layout": {
        "legend": {
         "tracegroupgap": 0
        },
        "mapbox": {
         "center": {
          "lat": 32.75407873333334,
          "lon": -97.27602146166667
         },
         "domain": {
          "x": [
           0,
           1
          ],
          "y": [
           0,
           1
          ]
         },
         "style": "carto-positron",
         "zoom": 8
        },
        "margin": {
         "t": 60
        },
        "template": {
         "data": {
          "bar": [
           {
            "error_x": {
             "color": "#2a3f5f"
            },
            "error_y": {
             "color": "#2a3f5f"
            },
            "marker": {
             "line": {
              "color": "#E5ECF6",
              "width": 0.5
             },
             "pattern": {
              "fillmode": "overlay",
              "size": 10,
              "solidity": 0.2
             }
            },
            "type": "bar"
           }
          ],
          "barpolar": [
           {
            "marker": {
             "line": {
              "color": "#E5ECF6",
              "width": 0.5
             },
             "pattern": {
              "fillmode": "overlay",
              "size": 10,
              "solidity": 0.2
             }
            },
            "type": "barpolar"
           }
          ],
          "carpet": [
           {
            "aaxis": {
             "endlinecolor": "#2a3f5f",
             "gridcolor": "white",
             "linecolor": "white",
             "minorgridcolor": "white",
             "startlinecolor": "#2a3f5f"
            },
            "baxis": {
             "endlinecolor": "#2a3f5f",
             "gridcolor": "white",
             "linecolor": "white",
             "minorgridcolor": "white",
             "startlinecolor": "#2a3f5f"
            },
            "type": "carpet"
           }
          ],
          "choropleth": [
           {
            "colorbar": {
             "outlinewidth": 0,
             "ticks": ""
            },
            "type": "choropleth"
           }
          ],
          "contour": [
           {
            "colorbar": {
             "outlinewidth": 0,
             "ticks": ""
            },
            "colorscale": [
             [
              0,
              "#0d0887"
             ],
             [
              0.1111111111111111,
              "#46039f"
             ],
             [
              0.2222222222222222,
              "#7201a8"
             ],
             [
              0.3333333333333333,
              "#9c179e"
             ],
             [
              0.4444444444444444,
              "#bd3786"
             ],
             [
              0.5555555555555556,
              "#d8576b"
             ],
             [
              0.6666666666666666,
              "#ed7953"
             ],
             [
              0.7777777777777778,
              "#fb9f3a"
             ],
             [
              0.8888888888888888,
              "#fdca26"
             ],
             [
              1,
              "#f0f921"
             ]
            ],
            "type": "contour"
           }
          ],
          "contourcarpet": [
           {
            "colorbar": {
             "outlinewidth": 0,
             "ticks": ""
            },
            "type": "contourcarpet"
           }
          ],
          "heatmap": [
           {
            "colorbar": {
             "outlinewidth": 0,
             "ticks": ""
            },
            "colorscale": [
             [
              0,
              "#0d0887"
             ],
             [
              0.1111111111111111,
              "#46039f"
             ],
             [
              0.2222222222222222,
              "#7201a8"
             ],
             [
              0.3333333333333333,
              "#9c179e"
             ],
             [
              0.4444444444444444,
              "#bd3786"
             ],
             [
              0.5555555555555556,
              "#d8576b"
             ],
             [
              0.6666666666666666,
              "#ed7953"
             ],
             [
              0.7777777777777778,
              "#fb9f3a"
             ],
             [
              0.8888888888888888,
              "#fdca26"
             ],
             [
              1,
              "#f0f921"
             ]
            ],
            "type": "heatmap"
           }
          ],
          "histogram": [
           {
            "marker": {
             "pattern": {
              "fillmode": "overlay",
              "size": 10,
              "solidity": 0.2
             }
            },
            "type": "histogram"
           }
          ],
          "histogram2d": [
           {
            "colorbar": {
             "outlinewidth": 0,
             "ticks": ""
            },
            "colorscale": [
             [
              0,
              "#0d0887"
             ],
             [
              0.1111111111111111,
              "#46039f"
             ],
             [
              0.2222222222222222,
              "#7201a8"
             ],
             [
              0.3333333333333333,
              "#9c179e"
             ],
             [
              0.4444444444444444,
              "#bd3786"
             ],
             [
              0.5555555555555556,
              "#d8576b"
             ],
             [
              0.6666666666666666,
              "#ed7953"
             ],
             [
              0.7777777777777778,
              "#fb9f3a"
             ],
             [
              0.8888888888888888,
              "#fdca26"
             ],
             [
              1,
              "#f0f921"
             ]
            ],
            "type": "histogram2d"
           }
          ],
          "histogram2dcontour": [
           {
            "colorbar": {
             "outlinewidth": 0,
             "ticks": ""
            },
            "colorscale": [
             [
              0,
              "#0d0887"
             ],
             [
              0.1111111111111111,
              "#46039f"
             ],
             [
              0.2222222222222222,
              "#7201a8"
             ],
             [
              0.3333333333333333,
              "#9c179e"
             ],
             [
              0.4444444444444444,
              "#bd3786"
             ],
             [
              0.5555555555555556,
              "#d8576b"
             ],
             [
              0.6666666666666666,
              "#ed7953"
             ],
             [
              0.7777777777777778,
              "#fb9f3a"
             ],
             [
              0.8888888888888888,
              "#fdca26"
             ],
             [
              1,
              "#f0f921"
             ]
            ],
            "type": "histogram2dcontour"
           }
          ],
          "mesh3d": [
           {
            "colorbar": {
             "outlinewidth": 0,
             "ticks": ""
            },
            "type": "mesh3d"
           }
          ],
          "parcoords": [
           {
            "line": {
             "colorbar": {
              "outlinewidth": 0,
              "ticks": ""
             }
            },
            "type": "parcoords"
           }
          ],
          "pie": [
           {
            "automargin": true,
            "type": "pie"
           }
          ],
          "scatter": [
           {
            "fillpattern": {
             "fillmode": "overlay",
             "size": 10,
             "solidity": 0.2
            },
            "type": "scatter"
           }
          ],
          "scatter3d": [
           {
            "line": {
             "colorbar": {
              "outlinewidth": 0,
              "ticks": ""
             }
            },
            "marker": {
             "colorbar": {
              "outlinewidth": 0,
              "ticks": ""
             }
            },
            "type": "scatter3d"
           }
          ],
          "scattercarpet": [
           {
            "marker": {
             "colorbar": {
              "outlinewidth": 0,
              "ticks": ""
             }
            },
            "type": "scattercarpet"
           }
          ],
          "scattergeo": [
           {
            "marker": {
             "colorbar": {
              "outlinewidth": 0,
              "ticks": ""
             }
            },
            "type": "scattergeo"
           }
          ],
          "scattergl": [
           {
            "marker": {
             "colorbar": {
              "outlinewidth": 0,
              "ticks": ""
             }
            },
            "type": "scattergl"
           }
          ],
          "scattermap": [
           {
            "marker": {
             "colorbar": {
              "outlinewidth": 0,
              "ticks": ""
             }
            },
            "type": "scattermap"
           }
          ],
          "scattermapbox": [
           {
            "marker": {
             "colorbar": {
              "outlinewidth": 0,
              "ticks": ""
             }
            },
            "type": "scattermapbox"
           }
          ],
          "scatterpolar": [
           {
            "marker": {
             "colorbar": {
              "outlinewidth": 0,
              "ticks": ""
             }
            },
            "type": "scatterpolar"
           }
          ],
          "scatterpolargl": [
           {
            "marker": {
             "colorbar": {
              "outlinewidth": 0,
              "ticks": ""
             }
            },
            "type": "scatterpolargl"
           }
          ],
          "scatterternary": [
           {
            "marker": {
             "colorbar": {
              "outlinewidth": 0,
              "ticks": ""
             }
            },
            "type": "scatterternary"
           }
          ],
          "surface": [
           {
            "colorbar": {
             "outlinewidth": 0,
             "ticks": ""
            },
            "colorscale": [
             [
              0,
              "#0d0887"
             ],
             [
              0.1111111111111111,
              "#46039f"
             ],
             [
              0.2222222222222222,
              "#7201a8"
             ],
             [
              0.3333333333333333,
              "#9c179e"
             ],
             [
              0.4444444444444444,
              "#bd3786"
             ],
             [
              0.5555555555555556,
              "#d8576b"
             ],
             [
              0.6666666666666666,
              "#ed7953"
             ],
             [
              0.7777777777777778,
              "#fb9f3a"
             ],
             [
              0.8888888888888888,
              "#fdca26"
             ],
             [
              1,
              "#f0f921"
             ]
            ],
            "type": "surface"
           }
          ],
          "table": [
           {
            "cells": {
             "fill": {
              "color": "#EBF0F8"
             },
             "line": {
              "color": "white"
             }
            },
            "header": {
             "fill": {
              "color": "#C8D4E3"
             },
             "line": {
              "color": "white"
             }
            },
            "type": "table"
           }
          ]
         },
         "layout": {
          "annotationdefaults": {
           "arrowcolor": "#2a3f5f",
           "arrowhead": 0,
           "arrowwidth": 1
          },
          "autotypenumbers": "strict",
          "coloraxis": {
           "colorbar": {
            "outlinewidth": 0,
            "ticks": ""
           }
          },
          "colorscale": {
           "diverging": [
            [
             0,
             "#8e0152"
            ],
            [
             0.1,
             "#c51b7d"
            ],
            [
             0.2,
             "#de77ae"
            ],
            [
             0.3,
             "#f1b6da"
            ],
            [
             0.4,
             "#fde0ef"
            ],
            [
             0.5,
             "#f7f7f7"
            ],
            [
             0.6,
             "#e6f5d0"
            ],
            [
             0.7,
             "#b8e186"
            ],
            [
             0.8,
             "#7fbc41"
            ],
            [
             0.9,
             "#4d9221"
            ],
            [
             1,
             "#276419"
            ]
           ],
           "sequential": [
            [
             0,
             "#0d0887"
            ],
            [
             0.1111111111111111,
             "#46039f"
            ],
            [
             0.2222222222222222,
             "#7201a8"
            ],
            [
             0.3333333333333333,
             "#9c179e"
            ],
            [
             0.4444444444444444,
             "#bd3786"
            ],
            [
             0.5555555555555556,
             "#d8576b"
            ],
            [
             0.6666666666666666,
             "#ed7953"
            ],
            [
             0.7777777777777778,
             "#fb9f3a"
            ],
            [
             0.8888888888888888,
             "#fdca26"
            ],
            [
             1,
             "#f0f921"
            ]
           ],
           "sequentialminus": [
            [
             0,
             "#0d0887"
            ],
            [
             0.1111111111111111,
             "#46039f"
            ],
            [
             0.2222222222222222,
             "#7201a8"
            ],
            [
             0.3333333333333333,
             "#9c179e"
            ],
            [
             0.4444444444444444,
             "#bd3786"
            ],
            [
             0.5555555555555556,
             "#d8576b"
            ],
            [
             0.6666666666666666,
             "#ed7953"
            ],
            [
             0.7777777777777778,
             "#fb9f3a"
            ],
            [
             0.8888888888888888,
             "#fdca26"
            ],
            [
             1,
             "#f0f921"
            ]
           ]
          },
          "colorway": [
           "#636efa",
           "#EF553B",
           "#00cc96",
           "#ab63fa",
           "#FFA15A",
           "#19d3f3",
           "#FF6692",
           "#B6E880",
           "#FF97FF",
           "#FECB52"
          ],
          "font": {
           "color": "#2a3f5f"
          },
          "geo": {
           "bgcolor": "white",
           "lakecolor": "white",
           "landcolor": "#E5ECF6",
           "showlakes": true,
           "showland": true,
           "subunitcolor": "white"
          },
          "hoverlabel": {
           "align": "left"
          },
          "hovermode": "closest",
          "mapbox": {
           "style": "light"
          },
          "paper_bgcolor": "white",
          "plot_bgcolor": "#E5ECF6",
          "polar": {
           "angularaxis": {
            "gridcolor": "white",
            "linecolor": "white",
            "ticks": ""
           },
           "bgcolor": "#E5ECF6",
           "radialaxis": {
            "gridcolor": "white",
            "linecolor": "white",
            "ticks": ""
           }
          },
          "scene": {
           "xaxis": {
            "backgroundcolor": "#E5ECF6",
            "gridcolor": "white",
            "gridwidth": 2,
            "linecolor": "white",
            "showbackground": true,
            "ticks": "",
            "zerolinecolor": "white"
           },
           "yaxis": {
            "backgroundcolor": "#E5ECF6",
            "gridcolor": "white",
            "gridwidth": 2,
            "linecolor": "white",
            "showbackground": true,
            "ticks": "",
            "zerolinecolor": "white"
           },
           "zaxis": {
            "backgroundcolor": "#E5ECF6",
            "gridcolor": "white",
            "gridwidth": 2,
            "linecolor": "white",
            "showbackground": true,
            "ticks": "",
            "zerolinecolor": "white"
           }
          },
          "shapedefaults": {
           "line": {
            "color": "#2a3f5f"
           }
          },
          "ternary": {
           "aaxis": {
            "gridcolor": "white",
            "linecolor": "white",
            "ticks": ""
           },
           "baxis": {
            "gridcolor": "white",
            "linecolor": "white",
            "ticks": ""
           },
           "bgcolor": "#E5ECF6",
           "caxis": {
            "gridcolor": "white",
            "linecolor": "white",
            "ticks": ""
           }
          },
          "title": {
           "x": 0.05
          },
          "xaxis": {
           "automargin": true,
           "gridcolor": "white",
           "linecolor": "white",
           "ticks": "",
           "title": {
            "standoff": 15
           },
           "zerolinecolor": "white",
           "zerolinewidth": 2
          },
          "yaxis": {
           "automargin": true,
           "gridcolor": "white",
           "linecolor": "white",
           "ticks": "",
           "title": {
            "standoff": 15
           },
           "zerolinecolor": "white",
           "zerolinewidth": 2
          }
         }
        }
       }
      }
     },
     "metadata": {},
     "output_type": "display_data"
    }
   ],
   "source": [
    "fig = px.scatter_mapbox(data_frame=cleaned_df, \n",
    "                        lat=\"Latitude\", \n",
    "                        lon=\"Longitude\",\n",
    "                        mapbox_style=\"carto-positron\")\n",
    "\n",
    "fig.show()"
   ]
  },
  {
   "cell_type": "markdown",
   "id": "02df1459",
   "metadata": {},
   "source": [
    "# House Location Color by Price"
   ]
  },
  {
   "cell_type": "code",
   "execution_count": 170,
   "id": "0be4e65b",
   "metadata": {},
   "outputs": [
    {
     "name": "stderr",
     "output_type": "stream",
     "text": [
      "C:\\Users\\kerom\\AppData\\Local\\Temp\\ipykernel_15152\\3089808353.py:1: DeprecationWarning:\n",
      "\n",
      "*scatter_mapbox* is deprecated! Use *scatter_map* instead. Learn more at: https://plotly.com/python/mapbox-to-maplibre/\n",
      "\n"
     ]
    },
    {
     "data": {
      "application/vnd.plotly.v1+json": {
       "config": {
        "plotlyServerURL": "https://plot.ly"
       },
       "data": [
        {
         "customdata": [
          [
           259900,
           253200,
           "North Richland Hills",
           1148,
           3,
           2
          ],
          [
           285000,
           281800,
           "Fort Worth",
           1550,
           3,
           2
          ],
          [
           315000,
           313900,
           "Arlington",
           2231,
           4,
           3
          ],
          [
           490000,
           484200,
           "Fort Worth",
           3151,
           4,
           3
          ],
          [
           270000,
           264300,
           "Saginaw",
           1394,
           3,
           2
          ],
          [
           450000,
           437700,
           "Fort Worth",
           3353,
           4,
           4
          ],
          [
           555000,
           543700,
           "Grand Prairie",
           3236,
           5,
           4
          ],
          [
           350000,
           343200,
           "Fort Worth",
           1805,
           4,
           2
          ],
          [
           445000,
           435400,
           "Fort Worth",
           1923,
           3,
           2
          ],
          [
           345000,
           335300,
           "Azle",
           1518,
           4,
           2
          ],
          [
           345000,
           339200,
           "Euless",
           1266,
           3,
           2
          ],
          [
           330000,
           324300,
           "Fort Worth",
           1821,
           3,
           2
          ],
          [
           325000,
           321100,
           "Fort Worth",
           1780,
           3,
           3
          ],
          [
           400000,
           393500,
           "Arlington",
           1835,
           3,
           2
          ],
          [
           239900,
           236900,
           "Fort Worth",
           1700,
           4,
           2
          ],
          [
           275000,
           273600,
           "Fort Worth",
           1863,
           3,
           2
          ],
          [
           330000,
           324100,
           "Fort Worth",
           1507,
           3,
           2
          ],
          [
           369000,
           363600,
           "Fort Worth",
           1932,
           3,
           2
          ],
          [
           375000,
           366700,
           "Fort Worth",
           1655,
           3,
           2
          ],
          [
           345900,
           342100,
           "Fort Worth",
           1799,
           3,
           2
          ],
          [
           249950,
           249300,
           "Fort Worth",
           1684,
           3,
           2
          ],
          [
           500000,
           496600,
           "Fort Worth",
           4837,
           5,
           5
          ],
          [
           289500,
           281100,
           "North Richland Hills",
           1324,
           3,
           2
          ],
          [
           250000,
           221900,
           "Saginaw",
           1245,
           3,
           2
          ],
          [
           299000,
           297100,
           "Fort Worth",
           1932,
           4,
           2
          ],
          [
           380000,
           374400,
           "Fort Worth",
           1746,
           3,
           2
          ],
          [
           219000,
           217300,
           "Fort Worth",
           1002,
           2,
           1
          ],
          [
           228000,
           205300,
           "Arlington",
           1308,
           3,
           1
          ],
          [
           259900,
           254900,
           "Arlington",
           1342,
           4,
           1
          ],
          [
           315000,
           311600,
           "Fort Worth",
           1598,
           3,
           2
          ],
          [
           290000,
           286200,
           "Arlington",
           1448,
           3,
           2
          ],
          [
           287900,
           283000,
           "Arlington",
           1448,
           3,
           2
          ],
          [
           378000,
           372900,
           "Burleson",
           1849,
           4,
           2
          ],
          [
           280000,
           278900,
           "Crowley",
           1816,
           3,
           2
          ],
          [
           285000,
           283600,
           "Fort Worth",
           1673,
           3,
           2
          ],
          [
           219900,
           219600,
           "Fort Worth",
           1362,
           3,
           2
          ],
          [
           255000,
           251600,
           "Fort Worth",
           1404,
           3,
           2
          ],
          [
           330000,
           344700,
           "Arlington",
           2047,
           3,
           2
          ],
          [
           250000,
           244000,
           "Arlington",
           1889,
           3,
           2
          ],
          [
           265000,
           262100,
           "Fort Worth",
           1220,
           3,
           2
          ],
          [
           225000,
           222900,
           "Fort Worth",
           1193,
           3,
           2
          ],
          [
           420000,
           410500,
           "Fort Worth",
           2164,
           3,
           2
          ],
          [
           345000,
           342500,
           "Fort Worth",
           2193,
           3,
           3
          ],
          [
           549900,
           545600,
           "Fort Worth",
           2635,
           4,
           4
          ],
          [
           369000,
           232100,
           "Fort Worth",
           1202,
           3,
           2
          ],
          [
           405000,
           440600,
           "Keller",
           1832,
           3,
           2
          ],
          [
           399950,
           395500,
           "Fort Worth",
           2137,
           3,
           2
          ],
          [
           349997,
           347200,
           "Mansfield",
           2016,
           4,
           3
          ],
          [
           52500,
           98200,
           "Mansfield",
           1216,
           3,
           2
          ],
          [
           429000,
           409800,
           "Fort Worth",
           3144,
           4,
           4
          ],
          [
           475000,
           466400,
           "Arlington",
           2748,
           4,
           3
          ],
          [
           295000,
           286200,
           "Fort Worth",
           1147,
           3,
           2
          ],
          [
           550000,
           535500,
           "Grapevine",
           2317,
           4,
           3
          ],
          [
           395000,
           381600,
           "Fort Worth",
           2145,
           4,
           2
          ],
          [
           295000,
           289800,
           "Richland Hills",
           1104,
           3,
           2
          ],
          [
           269000,
           266200,
           "Haltom City",
           1238,
           3,
           2
          ],
          [
           310000,
           304600,
           "Fort Worth",
           1689,
           4,
           2
          ],
          [
           399900,
           386800,
           "Fort Worth",
           2447,
           4,
           3
          ],
          [
           411800,
           405900,
           "Mansfield",
           2611,
           4,
           4
          ],
          [
           495000,
           487200,
           "Mansfield",
           2511,
           4,
           3
          ],
          [
           440000,
           432400,
           "Fort Worth",
           4026,
           4,
           4
          ],
          [
           560000,
           546300,
           "Keller",
           2744,
           4,
           4
          ],
          [
           199900,
           195300,
           "Haltom City",
           1080,
           3,
           2
          ],
          [
           225000,
           223600,
           "Fort Worth",
           1431,
           3,
           2
          ],
          [
           265000,
           260400,
           "Fort Worth",
           1326,
           3,
           2
          ],
          [
           375000,
           373200,
           "Hurst",
           2016,
           4,
           2
          ],
          [
           279500,
           277200,
           "Fort Worth",
           1758,
           4,
           3
          ],
          [
           160000,
           158300,
           "Fort Worth",
           2524,
           3,
           2
          ],
          [
           299000,
           288500,
           "Azle",
           2006,
           3,
           2
          ],
          [
           269900,
           266600,
           "Arlington",
           1496,
           2,
           2
          ],
          [
           595000,
           585200,
           "Haslet",
           2315,
           4,
           2
          ],
          [
           489000,
           477600,
           "Fort Worth",
           1827,
           3,
           2
          ],
          [
           265000,
           261700,
           "Arlington",
           1201,
           3,
           2
          ],
          [
           345000,
           339500,
           "Fort Worth",
           2015,
           4,
           2
          ],
          [
           325000,
           322600,
           "Fort Worth",
           1868,
           4,
           4
          ],
          [
           448000,
           443500,
           "Arlington",
           2946,
           4,
           4
          ],
          [
           370000,
           362700,
           "Arlington",
           1649,
           3,
           2
          ],
          [
           297500,
           296300,
           "Fort Worth",
           1980,
           4,
           3
          ],
          [
           450000,
           446400,
           "Fort Worth",
           2963,
           4,
           3
          ],
          [
           547500,
           543100,
           "Grapevine",
           2062,
           3,
           2
          ],
          [
           325000,
           318000,
           "Fort Worth",
           2404,
           3,
           2
          ],
          [
           525000,
           511500,
           "Grapevine",
           2250,
           3,
           3
          ],
          [
           383500,
           377900,
           "Arlington",
           1942,
           3,
           3
          ],
          [
           359000,
           357900,
           "Fort Worth",
           1949,
           4,
           2
          ],
          [
           315000,
           305100,
           "Benbrook",
           1696,
           3,
           2
          ],
          [
           290000,
           286200,
           "Arlington",
           1353,
           3,
           2
          ],
          [
           549900,
           541600,
           "Fort Worth",
           3279,
           5,
           5
          ],
          [
           279900,
           278300,
           "Fort Worth",
           1761,
           3,
           2
          ],
          [
           439000,
           435600,
           "Crowley",
           2535,
           3,
           3
          ],
          [
           300000,
           296900,
           "Fort Worth",
           2182,
           4,
           2
          ],
          [
           325000,
           320200,
           "Arlington",
           2040,
           3,
           2
          ],
          [
           278000,
           274700,
           "Fort Worth",
           1575,
           3,
           2
          ],
          [
           399900,
           391200,
           "Keller",
           1851,
           3,
           2
          ],
          [
           310000,
           307600,
           "Arlington",
           1430,
           3,
           2
          ],
          [
           175000,
           192300,
           "Fort Worth",
           1199,
           3,
           1
          ],
          [
           340000,
           335100,
           "Fort Worth",
           2225,
           3,
           3
          ],
          [
           465000,
           457700,
           "Mansfield",
           2404,
           4,
           3
          ],
          [
           325000,
           320300,
           "Fort Worth",
           1844,
           3,
           2
          ],
          [
           325000,
           322800,
           "Fort Worth",
           1653,
           3,
           2
          ],
          [
           260000,
           256500,
           "Arlington",
           1340,
           3,
           2
          ],
          [
           235000,
           232000,
           "Fort Worth",
           1599,
           3,
           2
          ],
          [
           350000,
           348400,
           "Fort Worth",
           2355,
           4,
           3
          ],
          [
           345000,
           345000,
           "Fort Worth",
           2008,
           4,
           3
          ],
          [
           264900,
           262800,
           "Grand Prairie",
           2013,
           4,
           2
          ],
          [
           399000,
           397000,
           "Fort Worth",
           3372,
           5,
           5
          ],
          [
           385000,
           377800,
           "Arlington",
           2469,
           4,
           3
          ],
          [
           400000,
           399700,
           "Mansfield",
           2289,
           4,
           2
          ],
          [
           325000,
           321100,
           "Burleson",
           1648,
           3,
           2
          ],
          [
           279900,
           276800,
           "Fort Worth",
           1550,
           4,
           2
          ],
          [
           299999,
           299700,
           "Fort Worth",
           2186,
           4,
           3
          ],
          [
           260000,
           256100,
           "Saginaw",
           1655,
           3,
           2
          ],
          [
           274900,
           272400,
           "Fort Worth",
           1529,
           3,
           2
          ],
          [
           356000,
           353100,
           "Fort Worth",
           1952,
           3,
           2
          ],
          [
           279900,
           277200,
           "Fort Worth",
           3700,
           5,
           3
          ],
          [
           265000,
           262000,
           "Forest Hill",
           1809,
           4,
           2
          ],
          [
           399800,
           395100,
           "Mansfield",
           2500,
           4,
           4
          ],
          [
           284999,
           284400,
           "Fort Worth",
           1664,
           3,
           2
          ],
          [
           530000,
           521000,
           "Fort Worth",
           2334,
           5,
           2
          ],
          [
           369000,
           358300,
           "Fort Worth",
           1032,
           3,
           1
          ],
          [
           300000,
           299000,
           "Arlington",
           1841,
           3,
           2
          ],
          [
           435000,
           429500,
           "Arlington",
           2439,
           4,
           3
          ],
          [
           323000,
           319400,
           "Fort Worth",
           2056,
           3,
           2
          ],
          [
           238000,
           237200,
           "Crowley",
           1134,
           3,
           2
          ],
          [
           250000,
           247400,
           "Fort Worth",
           1617,
           3,
           2
          ],
          [
           159500,
           156300,
           "Fort Worth",
           1118,
           3,
           2
          ],
          [
           350000,
           346700,
           "Hurst",
           2339,
           4,
           3
          ],
          [
           290000,
           284200,
           "Arlington",
           1470,
           3,
           2
          ],
          [
           565000,
           554900,
           "Arlington",
           3081,
           4,
           3
          ],
          [
           300000,
           297200,
           "Arlington",
           2145,
           4,
           2
          ],
          [
           349000,
           343300,
           "Fort Worth",
           2601,
           4,
           3
          ],
          [
           274900,
           272000,
           "Watauga",
           1494,
           3,
           2
          ],
          [
           399900,
           394500,
           "Arlington",
           2202,
           3,
           3
          ],
          [
           324999,
           319600,
           "Arlington",
           2070,
           3,
           2
          ],
          [
           325000,
           323700,
           "Fort Worth",
           1854,
           3,
           2
          ],
          [
           309900,
           307300,
           "Fort Worth",
           1750,
           4,
           2
          ],
          [
           290000,
           286100,
           "Arlington",
           1575,
           3,
           2
          ],
          [
           295000,
           254500,
           "North Richland Hills",
           1790,
           3,
           2
          ],
          [
           389000,
           382300,
           "Fort Worth",
           2036,
           4,
           2
          ],
          [
           330000,
           324800,
           "Arlington",
           3230,
           5,
           4
          ],
          [
           389495,
           384400,
           "Fort Worth",
           1903,
           3,
           2
          ],
          [
           539000,
           539000,
           "Fort Worth",
           2690,
           4,
           3
          ],
          [
           330000,
           325100,
           "N Richland Hills",
           1844,
           4,
           2
          ],
          [
           440000,
           440800,
           "Mansfield",
           2376,
           4,
           3
          ],
          [
           325000,
           321800,
           "Fort Worth",
           1856,
           4,
           3
          ],
          [
           320000,
           316700,
           "Arlington",
           1499,
           3,
           3
          ],
          [
           229000,
           227200,
           "Mansfield",
           1126,
           3,
           2
          ],
          [
           395000,
           391200,
           "Benbrook",
           1906,
           4,
           2
          ],
          [
           374000,
           384700,
           "Fort Worth",
           2240,
           3,
           2
          ],
          [
           340000,
           334600,
           "Fort Worth",
           2166,
           4,
           3
          ],
          [
           315000,
           311700,
           "Fort Worth",
           2769,
           5,
           3
          ],
          [
           270000,
           269100,
           "Fort Worth",
           1488,
           3,
           3
          ],
          [
           276000,
           268200,
           "Grand Prairie",
           1241,
           4,
           3
          ],
          [
           299999,
           299600,
           "Haltom City",
           2019,
           4,
           2
          ],
          [
           469000,
           463900,
           "Mansfield",
           3087,
           5,
           3
          ],
          [
           230000,
           227200,
           "Fort Worth",
           1696,
           4,
           2
          ],
          [
           585000,
           574200,
           "Grand Prairie",
           3660,
           4,
           4
          ],
          [
           299000,
           288600,
           "Fort Worth",
           1579,
           3,
           2
          ],
          [
           330000,
           321700,
           "Fort Worth",
           1758,
           3,
           2
          ],
          [
           350000,
           347300,
           "Fort Worth",
           2021,
           3,
           2
          ],
          [
           385000,
           382300,
           "Hurst",
           2276,
           4,
           2
          ],
          [
           328000,
           328000,
           "Fort Worth",
           1617,
           4,
           2
          ],
          [
           407900,
           404100,
           "Fort Worth",
           2534,
           4,
           3
          ],
          [
           362500,
           359000,
           "Fort Worth",
           2485,
           4,
           3
          ],
          [
           500000,
           497900,
           "Mansfield",
           3257,
           5,
           3
          ],
          [
           469000,
           455600,
           "Fort Worth",
           1170,
           2,
           2
          ],
          [
           259900,
           259700,
           "Fort Worth",
           1755,
           4,
           2
          ],
          [
           267000,
           267000,
           "Crowley",
           1201,
           3,
           2
          ],
          [
           569000,
           555900,
           "Fort Worth",
           2304,
           3,
           3
          ],
          [
           400000,
           396300,
           "Fort Worth",
           2125,
           4,
           2
          ],
          [
           274500,
           274100,
           "Fort Worth",
           1362,
           3,
           2
          ],
          [
           275000,
           268700,
           "Arlington",
           1574,
           3,
           2
          ],
          [
           134995,
           135000,
           "Burleson",
           1904,
           4,
           2
          ],
          [
           405000,
           399900,
           "Fort Worth",
           3288,
           5,
           4
          ],
          [
           389900,
           384000,
           "Grand Prairie",
           2221,
           4,
           3
          ],
          [
           239900,
           240500,
           "Fort Worth",
           2242,
           3,
           3
          ],
          [
           299000,
           298900,
           "Haslet",
           1795,
           4,
           2
          ],
          [
           245000,
           243100,
           "Arlington",
           947,
           3,
           1
          ],
          [
           259495,
           256000,
           "Haltom City",
           1353,
           3,
           2
          ],
          [
           360000,
           356900,
           "Fort Worth",
           2283,
           4,
           3
          ],
          [
           291000,
           302600,
           "Arlington",
           1765,
           3,
           2
          ],
          [
           349000,
           346800,
           "North Richland Hills",
           1833,
           3,
           2
          ],
          [
           535000,
           530200,
           "Arlington",
           3095,
           5,
           4
          ],
          [
           275000,
           265900,
           "Fort Worth",
           1034,
           2,
           2
          ],
          [
           225000,
           219700,
           "Mansfield",
           1383,
           3,
           2
          ],
          [
           310000,
           304700,
           "Arlington",
           2673,
           4,
           3
          ],
          [
           385000,
           377800,
           "Bedford",
           1521,
           3,
           2
          ],
          [
           384900,
           382000,
           "Everman",
           1860,
           4,
           2
          ],
          [
           324900,
           323100,
           "Azle",
           1952,
           3,
           2
          ],
          [
           329900,
           329000,
           "Haslet",
           1980,
           3,
           2
          ],
          [
           310000,
           307600,
           "Fort Worth",
           1998,
           4,
           3
          ],
          [
           330000,
           327500,
           "Fort Worth",
           2644,
           4,
           2
          ],
          [
           185000,
           177700,
           "Arlington",
           1060,
           3,
           1
          ],
          [
           525000,
           515000,
           "Mansfield",
           3038,
           4,
           3
          ],
          [
           464990,
           460600,
           "North Richland Hills",
           2438,
           4,
           3
          ],
          [
           349000,
           342700,
           "Fort Worth",
           2581,
           4,
           3
          ],
          [
           289900,
           286900,
           "Fort Worth",
           1412,
           3,
           2
          ],
          [
           499895,
           496000,
           "Fort Worth",
           3288,
           4,
           3
          ],
          [
           289999,
           289700,
           "Crowley",
           1733,
           3,
           2
          ],
          [
           450000,
           444600,
           "Grand Prairie",
           2451,
           3,
           2
          ],
          [
           240000,
           239300,
           "North Richland Hills",
           1253,
           3,
           2
          ],
          [
           295000,
           294000,
           "Arlington",
           1537,
           3,
           2
          ],
          [
           297500,
           298200,
           "Arlington",
           1483,
           3,
           2
          ],
          [
           375000,
           369900,
           "Arlington",
           2391,
           4,
           2
          ],
          [
           289900,
           286400,
           "Arlington",
           1530,
           3,
           2
          ],
          [
           340000,
           335200,
           "Fort Worth",
           2219,
           4,
           2
          ],
          [
           300000,
           299300,
           "Saginaw",
           1792,
           3,
           3
          ],
          [
           365000,
           365000,
           "Fort Worth",
           3763,
           5,
           4
          ],
          [
           258000,
           254500,
           "North Richland Hills",
           1734,
           3,
           2
          ],
          [
           399990,
           394100,
           "Fort Worth",
           2735,
           4,
           3
          ],
          [
           229900,
           226400,
           "Fort Worth",
           1104,
           3,
           2
          ],
          [
           319000,
           315900,
           "Fort Worth",
           1772,
           4,
           2
          ],
          [
           450000,
           442900,
           "Arlington",
           2136,
           3,
           2
          ],
          [
           397900,
           392000,
           "Arlington",
           2518,
           5,
           3
          ],
          [
           210000,
           211200,
           "Arlington",
           1550,
           3,
           2
          ],
          [
           289000,
           306900,
           "Arlington",
           2106,
           5,
           3
          ],
          [
           399900,
           394400,
           "Mansfield",
           2479,
           4,
           2
          ],
          [
           499000,
           495600,
           "Fort Worth",
           3148,
           4,
           4
          ],
          [
           295000,
           293000,
           "Mansfield",
           1614,
           3,
           2
          ],
          [
           385000,
           383000,
           "Saginaw",
           1806,
           4,
           2
          ],
          [
           220000,
           215700,
           "Crowley",
           1246,
           3,
           2
          ],
          [
           250000,
           244300,
           "Fort Worth",
           1038,
           3,
           1
          ],
          [
           269000,
           267200,
           "Watauga",
           1232,
           4,
           2
          ],
          [
           435000,
           429000,
           "Fort Worth",
           1610,
           3,
           2
          ],
          [
           474500,
           464100,
           "Hurst",
           2203,
           3,
           3
          ],
          [
           385000,
           379900,
           "Fort Worth",
           2335,
           4,
           3
          ],
          [
           379950,
           374800,
           "Bedford",
           1714,
           3,
           2
          ],
          [
           450000,
           447400,
           "Fort Worth",
           2997,
           5,
           2
          ],
          [
           475000,
           468800,
           "Mansfield",
           2850,
           4,
           3
          ],
          [
           249999,
           245500,
           "Haltom City",
           1395,
           3,
           2
          ],
          [
           398000,
           395500,
           "Fort Worth",
           2975,
           5,
           3
          ],
          [
           417000,
           369200,
           "Fort Worth",
           3315,
           5,
           4
          ],
          [
           225000,
           223000,
           "Fort Worth",
           1196,
           3,
           2
          ],
          [
           259900,
           259800,
           "Arlington",
           1898,
           3,
           2
          ],
          [
           440000,
           437100,
           "Hurst",
           2534,
           4,
           3
          ],
          [
           320000,
           316000,
           "Arlington",
           1732,
           3,
           2
          ],
          [
           499500,
           494000,
           "Grand Prairie",
           3008,
           4,
           3
          ],
          [
           317500,
           316800,
           "Hurst",
           1452,
           3,
           2
          ],
          [
           225000,
           221700,
           "Fort Worth",
           1136,
           4,
           2
          ],
          [
           322500,
           321200,
           "Fort Worth",
           2148,
           4,
           3
          ],
          [
           439900,
           435800,
           "Fort Worth",
           3006,
           5,
           3
          ],
          [
           298000,
           291600,
           "Richland Hills",
           2248,
           3,
           2
          ],
          [
           200000,
           186900,
           "Fort Worth",
           1512,
           4,
           2
          ],
          [
           350000,
           348000,
           "Arlington",
           2358,
           3,
           2
          ],
          [
           258000,
           255600,
           "Richland Hills",
           1464,
           3,
           2
          ],
          [
           199900,
           198700,
           "Crowley",
           1335,
           3,
           2
          ],
          [
           329999,
           323700,
           "Arlington",
           1844,
           3,
           2
          ],
          [
           240000,
           236500,
           "Arlington",
           1110,
           3,
           2
          ],
          [
           490000,
           487300,
           "Fort Worth",
           1556,
           3,
           2
          ],
          [
           210000,
           206300,
           "Haltom City",
           1204,
           3,
           1
          ],
          [
           400000,
           395300,
           "Arlington",
           2470,
           4,
           3
          ],
          [
           475000,
           470600,
           "Fort Worth",
           1890,
           3,
           2
          ],
          [
           241499,
           241000,
           "Fort Worth",
           1015,
           3,
           2
          ],
          [
           377589,
           376700,
           "Fort Worth",
           2472,
           4,
           4
          ],
          [
           475000,
           466100,
           "Arlington",
           2905,
           4,
           3
          ],
          [
           310000,
           305600,
           "Roanoke",
           1511,
           3,
           2
          ],
          [
           425000,
           417400,
           "Arlington",
           2300,
           4,
           3
          ],
          [
           279000,
           271200,
           "Arlington",
           1372,
           3,
           2
          ],
          [
           255000,
           254800,
           "Fort Worth",
           1447,
           3,
           2
          ],
          [
           324900,
           322600,
           "Grand Prairie",
           2690,
           4,
           3
          ],
          [
           474900,
           468600,
           "Hurst",
           2046,
           4,
           2
          ],
          [
           485000,
           472000,
           "Fort Worth",
           1770,
           3,
           2
          ],
          [
           449000,
           446100,
           "Grand Prairie",
           3254,
           4,
           4
          ],
          [
           423000,
           420600,
           "Mansfield",
           2264,
           3,
           2
          ],
          [
           335000,
           333200,
           "Fort Worth",
           2134,
           4,
           3
          ],
          [
           289000,
           288700,
           "Crowley",
           1582,
           3,
           2
          ],
          [
           242000,
           237600,
           "Mansfield",
           1303,
           3,
           2
          ],
          [
           340000,
           331400,
           "River Oaks",
           1841,
           3,
           2
          ],
          [
           285000,
           277000,
           "Fort Worth",
           2251,
           3,
           2
          ],
          [
           509900,
           502200,
           "Fort Worth",
           2222,
           3,
           3
          ],
          [
           309400,
           303000,
           "Arlington",
           1447,
           3,
           2
          ],
          [
           369900,
           364300,
           "Arlington",
           1758,
           3,
           2
          ],
          [
           389000,
           388100,
           "Grand Prairie",
           2740,
           4,
           4
          ],
          [
           350000,
           350000,
           "Azle",
           2322,
           4,
           3
          ],
          [
           315000,
           306800,
           "Watauga",
           1704,
           4,
           3
          ],
          [
           412000,
           404100,
           "Benbrook",
           2623,
           3,
           2
          ],
          [
           529000,
           512600,
           "Fort Worth",
           1830,
           3,
           2
          ],
          [
           445900,
           440500,
           "Arlington",
           3020,
           5,
           4
          ],
          [
           460000,
           454500,
           "Fort Worth",
           2368,
           4,
           3
          ],
          [
           199900,
           193900,
           "Fort Worth",
           1918,
           3,
           3
          ],
          [
           395000,
           388600,
           "Arlington",
           2189,
           3,
           2
          ],
          [
           260000,
           249400,
           "Fort Worth",
           2038,
           3,
           2
          ],
          [
           300000,
           297500,
           "Fort Worth",
           2534,
           4,
           3
          ],
          [
           199900,
           192300,
           "White Settlement",
           1710,
           3,
           2
          ],
          [
           399900,
           397300,
           "Mansfield",
           2450,
           4,
           3
          ],
          [
           249999,
           249400,
           "Fort Worth",
           1423,
           3,
           2
          ],
          [
           208000,
           205900,
           "Arlington",
           1030,
           3,
           2
          ],
          [
           399000,
           393400,
           "Fort Worth",
           1355,
           3,
           2
          ],
          [
           299000,
           295900,
           "Saginaw",
           1866,
           4,
           2
          ],
          [
           464900,
           460800,
           "Mansfield",
           2781,
           4,
           3
          ],
          [
           124995,
           124900,
           "Burleson",
           1816,
           3,
           2
          ],
          [
           495900,
           493900,
           "Crowley",
           2476,
           3,
           2
          ],
          [
           548000,
           537200,
           "Fort Worth",
           2487,
           3,
           3
          ],
          [
           273000,
           273100,
           "Crowley",
           1702,
           4,
           2
          ],
          [
           200000,
           197800,
           "Sansom Park",
           1720,
           5,
           3
          ],
          [
           325000,
           322500,
           "Arlington",
           2256,
           4,
           4
          ],
          [
           445000,
           439300,
           "Fort Worth",
           2471,
           4,
           2
          ],
          [
           225000,
           222800,
           "Lake Worth",
           1172,
           3,
           2
          ],
          [
           325000,
           321700,
           "Arlington",
           1791,
           4,
           3
          ],
          [
           349900,
           342100,
           "Mansfield",
           1650,
           4,
           2
          ],
          [
           519900,
           515800,
           "Fort Worth",
           2641,
           3,
           3
          ],
          [
           320000,
           315900,
           "North Richland Hills",
           1716,
           3,
           2
          ],
          [
           420000,
           413000,
           "Mansfield",
           2374,
           4,
           3
          ],
          [
           525000,
           512700,
           "Fort Worth",
           2776,
           3,
           3
          ],
          [
           220000,
           217500,
           "Fort Worth",
           1603,
           4,
           2
          ],
          [
           424999,
           424100,
           "Fort Worth",
           2726,
           5,
           3
          ],
          [
           345000,
           343800,
           "Bedford",
           1891,
           4,
           2
          ],
          [
           199999,
           195600,
           "Fort Worth",
           1416,
           3,
           2
          ],
          [
           250000,
           245900,
           "Haltom City",
           1230,
           2,
           2
          ],
          [
           425000,
           414600,
           "Bedford",
           2475,
           3,
           3
          ],
          [
           250000,
           247000,
           "Fort Worth",
           1419,
           3,
           2
          ],
          [
           298500,
           294300,
           "Fort Worth",
           1877,
           3,
           2
          ],
          [
           415000,
           414700,
           "Fort Worth",
           2694,
           4,
           3
          ],
          [
           85995,
           85700,
           "Burleson",
           1568,
           4,
           2
          ],
          [
           365000,
           363500,
           "Arlington",
           2114,
           4,
           2
          ],
          [
           295000,
           294600,
           "Hurst",
           2200,
           4,
           2
          ],
          [
           443000,
           439600,
           "Arlington",
           2204,
           4,
           3
          ],
          [
           380000,
           375000,
           "Fort Worth",
           2628,
           5,
           4
          ],
          [
           315000,
           312900,
           "Fort Worth",
           1788,
           4,
           2
          ],
          [
           515000,
           506900,
           "Arlington",
           2610,
           4,
           3
          ],
          [
           279900,
           277500,
           "Fort Worth",
           1814,
           3,
           2
          ],
          [
           214900,
           214100,
           "Arlington",
           1104,
           2,
           2
          ],
          [
           279900,
           274300,
           "Watauga",
           1457,
           3,
           2
          ],
          [
           469000,
           468600,
           "Grand Prairie",
           3444,
           5,
           4
          ],
          [
           300000,
           296100,
           "Fort Worth",
           1091,
           2,
           2
          ],
          [
           215000,
           210100,
           "Fort Worth",
           1344,
           3,
           1
          ],
          [
           230000,
           225500,
           "Forest Hill",
           936,
           2,
           1
          ],
          [
           595000,
           578600,
           "Fort Worth",
           2775,
           3,
           3
          ],
          [
           360000,
           356000,
           "Arlington",
           2291,
           3,
           3
          ],
          [
           358925,
           353900,
           "Fort Worth",
           2535,
           4,
           3
          ],
          [
           589900,
           549900,
           "Mansfield",
           3112,
           4,
           4
          ],
          [
           285000,
           284700,
           "Fort Worth",
           1875,
           3,
           2
          ],
          [
           299900,
           289400,
           "Benbrook",
           1764,
           3,
           2
          ],
          [
           305000,
           300100,
           "Arlington",
           1290,
           3,
           2
          ],
          [
           340000,
           334700,
           "Fort Worth",
           2062,
           4,
           3
          ],
          [
           489000,
           477600,
           "Richland Hills",
           3097,
           4,
           3
          ],
          [
           269900,
           266900,
           "Fort Worth",
           1634,
           4,
           2
          ],
          [
           205000,
           207300,
           "Lake Worth",
           1253,
           3,
           2
          ],
          [
           198000,
           196200,
           "Fort Worth",
           1178,
           2,
           1
          ],
          [
           249900,
           245100,
           "Arlington",
           1497,
           3,
           2
          ],
          [
           599000,
           588000,
           "Fort Worth",
           3504,
           3,
           4
          ],
          [
           289000,
           287300,
           "Fort Worth",
           1681,
           4,
           2
          ],
          [
           320000,
           318600,
           "Arlington",
           1315,
           3,
           2
          ],
          [
           205995,
           202300,
           "Blue Mound",
           1161,
           3,
           2
          ],
          [
           440000,
           429900,
           "Mansfield",
           2483,
           5,
           4
          ],
          [
           515000,
           506300,
           "Keller",
           2299,
           3,
           2
          ],
          [
           479900,
           470500,
           "Arlington",
           2798,
           4,
           3
          ],
          [
           273000,
           264600,
           "Saginaw",
           1571,
           3,
           2
          ],
          [
           370000,
           362700,
           "Fort Worth",
           1420,
           4,
           2
          ],
          [
           464000,
           454100,
           "Keller",
           2164,
           3,
           2
          ],
          [
           299000,
           294500,
           "Keller",
           1044,
           3,
           2
          ],
          [
           469900,
           454400,
           "Azle",
           1936,
           3,
           3
          ],
          [
           365000,
           361400,
           "Fort Worth",
           2432,
           5,
           3
          ],
          [
           478000,
           471100,
           "Bedford",
           2479,
           4,
           2
          ],
          [
           250000,
           248400,
           "Burleson",
           1529,
           3,
           2
          ],
          [
           319000,
           314900,
           "Richland Hills",
           2621,
           3,
           2
          ],
          [
           495000,
           493000,
           "Burleson",
           2057,
           4,
           2
          ],
          [
           374500,
           363600,
           "Arlington",
           2987,
           5,
           3
          ],
          [
           380000,
           376700,
           "Grand Prairie",
           2080,
           3,
           2
          ],
          [
           289900,
           284600,
           "Richland Hills",
           1632,
           3,
           2
          ],
          [
           438000,
           429600,
           "North Richland Hills",
           2030,
           3,
           2
          ],
          [
           390000,
           387800,
           "Haslet",
           2108,
           4,
           2
          ],
          [
           375000,
           374300,
           "Burleson",
           2998,
           3,
           3
          ],
          [
           437000,
           429000,
           "Burleson",
           2978,
           4,
           3
          ],
          [
           310000,
           307000,
           "Benbrook",
           1300,
           3,
           2
          ],
          [
           555000,
           544000,
           "Fort Worth",
           3537,
           5,
           4
          ],
          [
           245000,
           244500,
           "Fort Worth",
           1466,
           3,
           2
          ],
          [
           330000,
           327100,
           "Fort Worth",
           1872,
           4,
           2
          ],
          [
           499900,
           491000,
           "Mansfield",
           3484,
           5,
           4
          ],
          [
           480000,
           439500,
           "North Richland Hills",
           2549,
           4,
           3
          ],
          [
           335000,
           327100,
           "Fort Worth",
           1612,
           3,
           2
          ],
          [
           375000,
           372900,
           "Fort Worth",
           1965,
           4,
           2
          ],
          [
           599900,
           595000,
           "Fort Worth",
           4083,
           5,
           4
          ],
          [
           489000,
           300200,
           "Fort Worth",
           1934,
           4,
           3
          ],
          [
           548700,
           539500,
           "Keller",
           2696,
           4,
           4
          ],
          [
           375000,
           373100,
           "Forest Hill",
           2464,
           3,
           2
          ],
          [
           305000,
           303900,
           "Fort Worth",
           1792,
           3,
           2
          ],
          [
           98500,
           92700,
           "North Richland Hills",
           1216,
           3,
           2
          ],
          [
           499000,
           489300,
           "Fort Worth",
           3254,
           3,
           3
          ],
          [
           319900,
           319600,
           "Roanoke",
           1976,
           3,
           3
          ],
          [
           243000,
           241000,
           "Crowley",
           1284,
           3,
           2
          ],
          [
           390000,
           389600,
           "Fort Worth",
           2778,
           5,
           3
          ],
          [
           315000,
           300200,
           "Hurst",
           1552,
           3,
           2
          ],
          [
           299999,
           300100,
           "Fort Worth",
           1564,
           3,
           2
          ],
          [
           375000,
           369700,
           "Fort Worth",
           2942,
           3,
           3
          ],
          [
           299900,
           294200,
           "Arlington",
           1800,
           4,
           2
          ],
          [
           269000,
           264700,
           "Fort Worth",
           1551,
           3,
           2
          ],
          [
           385000,
           382700,
           "Azle",
           1939,
           4,
           2
          ],
          [
           339000,
           328200,
           "Fort Worth",
           1100,
           2,
           1
          ],
          [
           279900,
           279400,
           "Fort Worth",
           1652,
           4,
           3
          ],
          [
           325000,
           324200,
           "North Richland Hills",
           2015,
           4,
           2
          ],
          [
           249999,
           249000,
           "Fort Worth",
           1519,
           3,
           2
          ],
          [
           324900,
           319700,
           "Hurst",
           1637,
           3,
           2
          ],
          [
           475000,
           474100,
           "Bedford",
           2545,
           4,
           3
          ],
          [
           469000,
           462700,
           "Fort Worth",
           2021,
           3,
           3
          ],
          [
           268000,
           266000,
           "Crowley",
           1323,
           3,
           2
          ],
          [
           255000,
           249600,
           "Arlington",
           1372,
           3,
           2
          ],
          [
           350000,
           345800,
           "Hurst",
           1924,
           3,
           2
          ],
          [
           268000,
           261000,
           "Fort Worth",
           1288,
           4,
           3
          ],
          [
           239900,
           238100,
           "Richland Hills",
           1304,
           3,
           2
          ],
          [
           370000,
           365400,
           "Mansfield",
           2050,
           4,
           2
          ],
          [
           270000,
           266300,
           "Arlington",
           2030,
           3,
           2
          ],
          [
           450000,
           390500,
           "Fort Worth",
           2500,
           4,
           3
          ],
          [
           220000,
           214500,
           "White Settlement",
           1526,
           4,
           2
          ],
          [
           427000,
           422500,
           "Haltom City",
           3096,
           4,
           3
          ],
          [
           208000,
           204600,
           "Fort Worth",
           1462,
           3,
           2
          ],
          [
           199817,
           195100,
           "Benbrook",
           1562,
           3,
           2
          ],
          [
           339900,
           339100,
           "Crowley",
           1796,
           4,
           2
          ],
          [
           360000,
           355200,
           "Fort Worth",
           1838,
           4,
           2
          ],
          [
           325000,
           319300,
           "North Richland Hills",
           1564,
           3,
           2
          ],
          [
           319000,
           316900,
           "Watauga",
           1232,
           4,
           2
          ],
          [
           360000,
           357300,
           "Fort Worth",
           1900,
           3,
           2
          ],
          [
           459999,
           446000,
           "Fort Worth",
           1711,
           2,
           2
          ],
          [
           310000,
           337000,
           "Benbrook",
           2039,
           3,
           2
          ],
          [
           265000,
           261800,
           "Fort Worth",
           1492,
           3,
           2
          ],
          [
           395000,
           391100,
           "Arlington",
           2674,
           4,
           3
          ],
          [
           199900,
           198800,
           "Aledo",
           1498,
           3,
           2
          ],
          [
           460000,
           453900,
           "Fort Worth",
           3168,
           4,
           4
          ],
          [
           379990,
           377700,
           "Fort Worth",
           1823,
           4,
           2
          ],
          [
           365795,
           361800,
           "Haslet",
           2141,
           5,
           3
          ],
          [
           275000,
           273400,
           "Crowley",
           1662,
           3,
           2
          ],
          [
           384900,
           378900,
           "Fort Worth",
           2810,
           4,
           4
          ],
          [
           335000,
           325200,
           "North Richland Hills",
           2398,
           3,
           2
          ],
          [
           335000,
           333100,
           "Keller",
           1836,
           3,
           2
          ],
          [
           294500,
           294500,
           "Fort Worth",
           2362,
           4,
           3
          ],
          [
           439900,
           435200,
           "Fort Worth",
           2528,
           4,
           3
          ],
          [
           200000,
           198100,
           "Fort Worth",
           1314,
           3,
           2
          ],
          [
           579000,
           569900,
           "Arlington",
           3192,
           4,
           3
          ],
          [
           364000,
           360500,
           "Arlington",
           2719,
           5,
           3
          ],
          [
           394900,
           389900,
           "Mansfield",
           1912,
           3,
           2
          ],
          [
           294990,
           295200,
           "Watauga",
           1747,
           4,
           2
          ],
          [
           284900,
           278500,
           "Fort Worth",
           2014,
           4,
           2
          ],
          [
           349900,
           343700,
           "North Richland Hills",
           1701,
           3,
           2
          ],
          [
           315000,
           309600,
           "Arlington",
           1805,
           4,
           2
          ],
          [
           265000,
           286900,
           "Fort Worth",
           1781,
           3,
           2
          ],
          [
           190000,
           184700,
           "Forest Hill",
           1682,
           3,
           2
          ],
          [
           289900,
           285000,
           "Fort Worth",
           1752,
           3,
           2
          ],
          [
           409990,
           410000,
           "Crowley",
           2720,
           5,
           3
          ],
          [
           370000,
           360900,
           "Grapevine",
           1367,
           3,
           2
          ],
          [
           507777,
           496800,
           "Fort Worth",
           2626,
           4,
           2
          ],
          [
           310000,
           299000,
           "White Settlement",
           2156,
           3,
           3
          ],
          [
           400000,
           396000,
           "Fort Worth",
           1809,
           3,
           2
          ],
          [
           525000,
           521800,
           "Arlington",
           3402,
           5,
           4
          ],
          [
           270000,
           269600,
           "Fort Worth",
           1286,
           3,
           2
          ],
          [
           268000,
           267400,
           "Hurst",
           1202,
           3,
           2
          ],
          [
           425000,
           420300,
           "Hurst",
           2098,
           4,
           2
          ],
          [
           525000,
           521000,
           "Fort Worth",
           2797,
           5,
           3
          ],
          [
           269900,
           267900,
           "Arlington",
           1152,
           3,
           2
          ],
          [
           399000,
           395600,
           "Arlington",
           2304,
           4,
           3
          ],
          [
           245000,
           236400,
           "Arlington",
           1200,
           3,
           2
          ],
          [
           460000,
           453200,
           "Fort Worth",
           2448,
           4,
           3
          ],
          [
           385000,
           381200,
           "Fort Worth",
           2241,
           3,
           3
          ],
          [
           390000,
           385900,
           "Mansfield",
           1765,
           3,
           2
          ],
          [
           425000,
           420300,
           "Fort Worth",
           2490,
           5,
           3
          ],
          [
           539000,
           530400,
           "Fort Worth",
           2845,
           4,
           3
          ],
          [
           315000,
           311000,
           "Fort Worth",
           1574,
           3,
           2
          ],
          [
           310000,
           306200,
           "Azle",
           1292,
           3,
           2
          ],
          [
           270000,
           266700,
           "Fort Worth",
           1397,
           2,
           2
          ],
          [
           485000,
           482100,
           "Fort Worth",
           1854,
           3,
           3
          ],
          [
           450000,
           445100,
           "Arlington",
           2820,
           4,
           3
          ],
          [
           475000,
           473200,
           "Mansfield",
           2785,
           5,
           3
          ],
          [
           365000,
           348700,
           "Fort Worth",
           2615,
           4,
           3
          ],
          [
           299000,
           297200,
           "Hurst",
           1463,
           4,
           2
          ],
          [
           302500,
           302400,
           "Crowley",
           1792,
           4,
           2
          ],
          [
           385000,
           379800,
           "Fort Worth",
           2053,
           3,
           2
          ],
          [
           345000,
           341300,
           "Fort Worth",
           1799,
           3,
           2
          ],
          [
           539000,
           538700,
           "Euless",
           2756,
           4,
           3
          ],
          [
           375000,
           371800,
           "Fort Worth",
           2854,
           4,
           2
          ],
          [
           255000,
           251800,
           "Fort Worth",
           1504,
           3,
           3
          ],
          [
           399900,
           398600,
           "Fort Worth",
           1830,
           3,
           2
          ],
          [
           565000,
           559800,
           "Fort Worth",
           3642,
           4,
           3
          ],
          [
           338000,
           335500,
           "Arlington",
           1978,
           4,
           3
          ],
          [
           310000,
           307800,
           "Watauga",
           1840,
           4,
           2
          ],
          [
           550000,
           539100,
           "Grand Prairie",
           3015,
           4,
           3
          ],
          [
           570000,
           560500,
           "Grand Prairie",
           3590,
           4,
           4
          ],
          [
           350000,
           343700,
           "Mansfield",
           1342,
           4,
           2
          ],
          [
           255000,
           253300,
           "Mansfield",
           1191,
           2,
           2
          ],
          [
           334000,
           332400,
           "Arlington",
           1545,
           3,
           2
          ],
          [
           299000,
           297700,
           "Fort Worth",
           1760,
           3,
           2
          ],
          [
           230000,
           210400,
           "Haltom City",
           864,
           2,
           1
          ],
          [
           299000,
           294700,
           "Fort Worth",
           1426,
           3,
           2
          ],
          [
           400000,
           399000,
           "Fort Worth",
           1848,
           3,
           2
          ],
          [
           400000,
           395900,
           "Mansfield",
           1855,
           3,
           2
          ],
          [
           250000,
           248500,
           "Fort Worth",
           1193,
           3,
           2
          ],
          [
           314990,
           307300,
           "Fort Worth",
           1868,
           3,
           2
          ],
          [
           349900,
           356000,
           "Fort Worth",
           1831,
           4,
           2
          ],
          [
           117500,
           160300,
           "Fort Worth",
           889,
           3,
           1
          ],
          [
           424900,
           406700,
           "Fort Worth",
           1466,
           3,
           2
          ],
          [
           299900,
           298600,
           "Fort Worth",
           2143,
           3,
           2
          ],
          [
           285000,
           280300,
           "Fort Worth",
           2107,
           3,
           2
          ],
          [
           349900,
           344300,
           "Fort Worth",
           2453,
           3,
           2
          ],
          [
           379950,
           376100,
           "Fort Worth",
           2114,
           4,
           3
          ],
          [
           349500,
           346200,
           "Fort Worth",
           2796,
           4,
           3
          ],
          [
           310000,
           308700,
           "Crowley",
           2359,
           4,
           3
          ],
          [
           225000,
           219600,
           "Bedford",
           1466,
           3,
           2
          ],
          [
           450000,
           440200,
           "Benbrook",
           2016,
           3,
           2
          ],
          [
           385000,
           381000,
           "Azle",
           1733,
           3,
           2
          ],
          [
           159000,
           249900,
           "River Oaks",
           2040,
           4,
           2
          ],
          [
           359900,
           356700,
           "North Richland Hills",
           1758,
           3,
           2
          ],
          [
           259900,
           258000,
           "Fort Worth",
           1486,
           3,
           2
          ],
          [
           355000,
           354300,
           "Fort Worth",
           2406,
           4,
           3
          ],
          [
           359000,
           355600,
           "Fort Worth",
           1380,
           3,
           1
          ],
          [
           435000,
           431500,
           "Fort Worth",
           3061,
           5,
           3
          ],
          [
           319000,
           319200,
           "Fort Worth",
           1906,
           4,
           2
          ],
          [
           409900,
           403400,
           "Fort Worth",
           2224,
           3,
           3
          ],
          [
           300000,
           297200,
           "North Richland Hills",
           1914,
           4,
           3
          ],
          [
           329500,
           328500,
           "Fort Worth",
           2521,
           4,
           3
          ],
          [
           155000,
           153000,
           "Fort Worth",
           1096,
           4,
           2
          ],
          [
           300000,
           298200,
           "Arlington",
           1780,
           3,
           2
          ],
          [
           289900,
           289200,
           "Fort Worth",
           1710,
           3,
           2
          ],
          [
           399000,
           390200,
           "Fort Worth",
           2439,
           3,
           3
          ],
          [
           400000,
           395200,
           "Fort Worth",
           2010,
           3,
           2
          ],
          [
           515000,
           504300,
           "Grand Prairie",
           3139,
           4,
           3
          ],
          [
           260000,
           257600,
           "Fort Worth",
           1221,
           3,
           2
          ],
          [
           235000,
           230800,
           "Arlington",
           1117,
           3,
           2
          ],
          [
           349900,
           344300,
           "Mansfield",
           1851,
           4,
           2
          ],
          [
           510000,
           498300,
           "Grand Prairie",
           2595,
           4,
           2
          ],
          [
           529900,
           527700,
           "Fort Worth",
           3235,
           5,
           3
          ],
          [
           340000,
           336400,
           "Fort Worth",
           1912,
           4,
           2
          ],
          [
           439900,
           434100,
           "Bedford",
           1819,
           4,
           2
          ],
          [
           414500,
           410100,
           "Arlington",
           2933,
           4,
           3
          ],
          [
           275000,
           275800,
           "Arlington",
           1134,
           3,
           2
          ],
          [
           199000,
           188500,
           "Fort Worth",
           1168,
           3,
           2
          ],
          [
           280000,
           276700,
           "Azle",
           1728,
           4,
           2
          ],
          [
           315000,
           308300,
           "Fort Worth",
           2168,
           4,
           3
          ],
          [
           344900,
           343700,
           "Arlington",
           1716,
           3,
           3
          ],
          [
           175000,
           172400,
           "Fort Worth",
           1754,
           5,
           4
          ],
          [
           330000,
           324200,
           "Arlington",
           2023,
           4,
           2
          ],
          [
           349000,
           340600,
           "Fort Worth",
           1784,
           3,
           2
          ],
          [
           424900,
           417600,
           "Grapevine",
           2128,
           3,
           3
          ],
          [
           284000,
           283300,
           "Fort Worth",
           1550,
           3,
           2
          ],
          [
           319000,
           310900,
           "Grapevine",
           1559,
           3,
           2
          ],
          [
           587000,
           581600,
           "Grand Prairie",
           3151,
           4,
           4
          ],
          [
           280000,
           279000,
           "Crowley",
           1593,
           3,
           2
          ],
          [
           375000,
           374500,
           "Hurst",
           2259,
           3,
           3
          ],
          [
           585000,
           577400,
           "Fort Worth",
           4108,
           5,
           4
          ],
          [
           400000,
           396000,
           "Mansfield",
           2317,
           3,
           2
          ],
          [
           395000,
           384900,
           "Fort Worth",
           1422,
           3,
           3
          ],
          [
           575000,
           564900,
           "Kennedale",
           4484,
           5,
           4
          ],
          [
           320000,
           316800,
           "Fort Worth",
           1938,
           4,
           2
          ],
          [
           374000,
           371500,
           "Fort Worth",
           2075,
           4,
           2
          ],
          [
           449000,
           445000,
           "Fort Worth",
           2876,
           4,
           3
          ],
          [
           573000,
           560000,
           "Arlington",
           2573,
           4,
           4
          ],
          [
           150000,
           122900,
           "Fort Worth",
           1344,
           3,
           2
          ],
          [
           325000,
           324400,
           "Fort Worth",
           2178,
           3,
           3
          ],
          [
           220000,
           216800,
           "Arlington",
           1333,
           3,
           2
          ],
          [
           309900,
           307100,
           "Arlington",
           1795,
           3,
           2
          ],
          [
           249999,
           246900,
           "Richland Hills",
           1313,
           3,
           1
          ],
          [
           375000,
           373500,
           "Fort Worth",
           2635,
           3,
           2
          ],
          [
           344900,
           343300,
           "Fort Worth",
           1822,
           4,
           2
          ],
          [
           474999,
           470100,
           "Fort Worth",
           2372,
           4,
           2
          ],
          [
           355000,
           351000,
           "Burleson",
           1954,
           3,
           2
          ],
          [
           459000,
           456300,
           "Fort Worth",
           2560,
           4,
           4
          ],
          [
           399000,
           396000,
           "Fort Worth",
           2744,
           5,
           3
          ],
          [
           350000,
           342700,
           "Fort Worth",
           1648,
           2,
           2
          ],
          [
           230000,
           226000,
           "Forest Hill",
           1949,
           3,
           2
          ],
          [
           438000,
           434500,
           "Fort Worth",
           2129,
           4,
           3
          ],
          [
           339500,
           330200,
           "Fort Worth",
           1232,
           3,
           2
          ],
          [
           359900,
           357200,
           "Fort Worth",
           2077,
           4,
           2
          ],
          [
           399900,
           393600,
           "Burleson",
           2205,
           4,
           3
          ],
          [
           415000,
           401300,
           "Grand Prairie",
           2400,
           3,
           2
          ],
          [
           240000,
           238300,
           "North Richland Hills",
           1231,
           3,
           2
          ],
          [
           500000,
           491600,
           "Fort Worth",
           3061,
           4,
           3
          ],
          [
           499000,
           495500,
           "Crowley",
           4466,
           5,
           4
          ],
          [
           307000,
           306900,
           "Fort Worth",
           1389,
           3,
           2
          ],
          [
           399000,
           389500,
           "Azle",
           2333,
           4,
           4
          ],
          [
           289900,
           287900,
           "Fort Worth",
           1436,
           3,
           2
          ],
          [
           475000,
           470200,
           "Grapevine",
           1673,
           3,
           2
          ],
          [
           369000,
           364800,
           "Mansfield",
           1774,
           3,
           2
          ],
          [
           569900,
           560500,
           "Mansfield",
           3032,
           5,
           3
          ],
          [
           324999,
           324400,
           "Crowley",
           1826,
           4,
           2
          ],
          [
           334500,
           332800,
           "Fort Worth",
           2257,
           4,
           3
          ],
          [
           130000,
           145200,
           "Fort Worth",
           768,
           2,
           1
          ],
          [
           460000,
           454500,
           "Fort Worth",
           2703,
           5,
           3
          ],
          [
           357000,
           353800,
           "Fort Worth",
           1772,
           3,
           2
          ],
          [
           410000,
           405300,
           "Fort Worth",
           2033,
           4,
           2
          ],
          [
           499000,
           490100,
           "Grapevine",
           1675,
           3,
           2
          ],
          [
           319900,
           315100,
           "Euless",
           1240,
           3,
           2
          ],
          [
           340000,
           339100,
           "Forest Hill",
           1940,
           3,
           2
          ],
          [
           250000,
           248700,
           "Lakeside",
           1080,
           3,
           2
          ],
          [
           408425,
           402400,
           "Mansfield",
           1499,
           3,
           2
          ],
          [
           485000,
           476200,
           "North Richland Hills",
           2173,
           3,
           2
          ],
          [
           500000,
           491600,
           "Arlington",
           2755,
           4,
           3
          ],
          [
           320000,
           315400,
           "Saginaw",
           1865,
           3,
           2
          ],
          [
           260000,
           255700,
           "Fort Worth",
           1713,
           3,
           2
          ],
          [
           274850,
           273300,
           "Arlington",
           1377,
           3,
           2
          ],
          [
           534900,
           528800,
           "Haslet",
           2508,
           4,
           3
          ],
          [
           579500,
           572800,
           "Grand Prairie",
           3414,
           4,
           4
          ],
          [
           385000,
           367000,
           "Mansfield",
           2178,
           3,
           2
          ],
          [
           520000,
           513400,
           "Mansfield",
           3257,
           4,
           4
          ],
          [
           345000,
           342600,
           "Burleson",
           1871,
           3,
           2
          ],
          [
           410000,
           406000,
           "Fort Worth",
           3996,
           5,
           4
          ],
          [
           208000,
           206100,
           "Forest Hill",
           1342,
           3,
           2
          ],
          [
           559000,
           545300,
           "Keller",
           2042,
           4,
           2
          ],
          [
           585000,
           571700,
           "Fort Worth",
           2613,
           3,
           2
          ],
          [
           295000,
           293500,
           "Richland Hills",
           1657,
           3,
           2
          ],
          [
           345000,
           338200,
           "Arlington",
           2025,
           3,
           2
          ],
          [
           385000,
           371200,
           "North Richland Hills",
           2924,
           3,
           2
          ],
          [
           256900,
           257100,
           "Bedford",
           1703,
           3,
           2
          ],
          [
           419900,
           415900,
           "Fort Worth",
           2502,
           3,
           3
          ],
          [
           250000,
           247900,
           "Fort Worth",
           1225,
           4,
           2
          ]
         ],
         "hovertemplate": "Latitude=%{lat}<br>Longitude=%{lon}<br>Property price (USD)=%{marker.color}<br>Zestimate (USD)=%{customdata[1]}<br>City=%{customdata[2]}<br>Living area=%{customdata[3]}<br>Bedrooms=%{customdata[4]}<br>Bathrooms=%{customdata[5]}<extra></extra>",
         "lat": {
          "bdata": "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",
          "dtype": "f8"
         },
         "legendgroup": "",
         "lon": {
          "bdata": "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",
          "dtype": "f8"
         },
         "marker": {
          "color": {
           "bdata": "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",
           "dtype": "i4"
          },
          "coloraxis": "coloraxis"
         },
         "mode": "markers",
         "name": "",
         "showlegend": false,
         "subplot": "mapbox",
         "type": "scattermapbox"
        }
       ],
       "layout": {
        "coloraxis": {
         "colorbar": {
          "title": {
           "text": "Property price (USD)"
          }
         },
         "colorscale": [
          [
           0,
           "#0d0887"
          ],
          [
           0.1111111111111111,
           "#46039f"
          ],
          [
           0.2222222222222222,
           "#7201a8"
          ],
          [
           0.3333333333333333,
           "#9c179e"
          ],
          [
           0.4444444444444444,
           "#bd3786"
          ],
          [
           0.5555555555555556,
           "#d8576b"
          ],
          [
           0.6666666666666666,
           "#ed7953"
          ],
          [
           0.7777777777777778,
           "#fb9f3a"
          ],
          [
           0.8888888888888888,
           "#fdca26"
          ],
          [
           1,
           "#f0f921"
          ]
         ]
        },
        "legend": {
         "tracegroupgap": 0
        },
        "mapbox": {
         "center": {
          "lat": 32.75407873333334,
          "lon": -97.27602146166667
         },
         "domain": {
          "x": [
           0,
           1
          ],
          "y": [
           0,
           1
          ]
         },
         "style": "carto-positron",
         "zoom": 8
        },
        "margin": {
         "t": 60
        },
        "template": {
         "data": {
          "bar": [
           {
            "error_x": {
             "color": "#2a3f5f"
            },
            "error_y": {
             "color": "#2a3f5f"
            },
            "marker": {
             "line": {
              "color": "#E5ECF6",
              "width": 0.5
             },
             "pattern": {
              "fillmode": "overlay",
              "size": 10,
              "solidity": 0.2
             }
            },
            "type": "bar"
           }
          ],
          "barpolar": [
           {
            "marker": {
             "line": {
              "color": "#E5ECF6",
              "width": 0.5
             },
             "pattern": {
              "fillmode": "overlay",
              "size": 10,
              "solidity": 0.2
             }
            },
            "type": "barpolar"
           }
          ],
          "carpet": [
           {
            "aaxis": {
             "endlinecolor": "#2a3f5f",
             "gridcolor": "white",
             "linecolor": "white",
             "minorgridcolor": "white",
             "startlinecolor": "#2a3f5f"
            },
            "baxis": {
             "endlinecolor": "#2a3f5f",
             "gridcolor": "white",
             "linecolor": "white",
             "minorgridcolor": "white",
             "startlinecolor": "#2a3f5f"
            },
            "type": "carpet"
           }
          ],
          "choropleth": [
           {
            "colorbar": {
             "outlinewidth": 0,
             "ticks": ""
            },
            "type": "choropleth"
           }
          ],
          "contour": [
           {
            "colorbar": {
             "outlinewidth": 0,
             "ticks": ""
            },
            "colorscale": [
             [
              0,
              "#0d0887"
             ],
             [
              0.1111111111111111,
              "#46039f"
             ],
             [
              0.2222222222222222,
              "#7201a8"
             ],
             [
              0.3333333333333333,
              "#9c179e"
             ],
             [
              0.4444444444444444,
              "#bd3786"
             ],
             [
              0.5555555555555556,
              "#d8576b"
             ],
             [
              0.6666666666666666,
              "#ed7953"
             ],
             [
              0.7777777777777778,
              "#fb9f3a"
             ],
             [
              0.8888888888888888,
              "#fdca26"
             ],
             [
              1,
              "#f0f921"
             ]
            ],
            "type": "contour"
           }
          ],
          "contourcarpet": [
           {
            "colorbar": {
             "outlinewidth": 0,
             "ticks": ""
            },
            "type": "contourcarpet"
           }
          ],
          "heatmap": [
           {
            "colorbar": {
             "outlinewidth": 0,
             "ticks": ""
            },
            "colorscale": [
             [
              0,
              "#0d0887"
             ],
             [
              0.1111111111111111,
              "#46039f"
             ],
             [
              0.2222222222222222,
              "#7201a8"
             ],
             [
              0.3333333333333333,
              "#9c179e"
             ],
             [
              0.4444444444444444,
              "#bd3786"
             ],
             [
              0.5555555555555556,
              "#d8576b"
             ],
             [
              0.6666666666666666,
              "#ed7953"
             ],
             [
              0.7777777777777778,
              "#fb9f3a"
             ],
             [
              0.8888888888888888,
              "#fdca26"
             ],
             [
              1,
              "#f0f921"
             ]
            ],
            "type": "heatmap"
           }
          ],
          "histogram": [
           {
            "marker": {
             "pattern": {
              "fillmode": "overlay",
              "size": 10,
              "solidity": 0.2
             }
            },
            "type": "histogram"
           }
          ],
          "histogram2d": [
           {
            "colorbar": {
             "outlinewidth": 0,
             "ticks": ""
            },
            "colorscale": [
             [
              0,
              "#0d0887"
             ],
             [
              0.1111111111111111,
              "#46039f"
             ],
             [
              0.2222222222222222,
              "#7201a8"
             ],
             [
              0.3333333333333333,
              "#9c179e"
             ],
             [
              0.4444444444444444,
              "#bd3786"
             ],
             [
              0.5555555555555556,
              "#d8576b"
             ],
             [
              0.6666666666666666,
              "#ed7953"
             ],
             [
              0.7777777777777778,
              "#fb9f3a"
             ],
             [
              0.8888888888888888,
              "#fdca26"
             ],
             [
              1,
              "#f0f921"
             ]
            ],
            "type": "histogram2d"
           }
          ],
          "histogram2dcontour": [
           {
            "colorbar": {
             "outlinewidth": 0,
             "ticks": ""
            },
            "colorscale": [
             [
              0,
              "#0d0887"
             ],
             [
              0.1111111111111111,
              "#46039f"
             ],
             [
              0.2222222222222222,
              "#7201a8"
             ],
             [
              0.3333333333333333,
              "#9c179e"
             ],
             [
              0.4444444444444444,
              "#bd3786"
             ],
             [
              0.5555555555555556,
              "#d8576b"
             ],
             [
              0.6666666666666666,
              "#ed7953"
             ],
             [
              0.7777777777777778,
              "#fb9f3a"
             ],
             [
              0.8888888888888888,
              "#fdca26"
             ],
             [
              1,
              "#f0f921"
             ]
            ],
            "type": "histogram2dcontour"
           }
          ],
          "mesh3d": [
           {
            "colorbar": {
             "outlinewidth": 0,
             "ticks": ""
            },
            "type": "mesh3d"
           }
          ],
          "parcoords": [
           {
            "line": {
             "colorbar": {
              "outlinewidth": 0,
              "ticks": ""
             }
            },
            "type": "parcoords"
           }
          ],
          "pie": [
           {
            "automargin": true,
            "type": "pie"
           }
          ],
          "scatter": [
           {
            "fillpattern": {
             "fillmode": "overlay",
             "size": 10,
             "solidity": 0.2
            },
            "type": "scatter"
           }
          ],
          "scatter3d": [
           {
            "line": {
             "colorbar": {
              "outlinewidth": 0,
              "ticks": ""
             }
            },
            "marker": {
             "colorbar": {
              "outlinewidth": 0,
              "ticks": ""
             }
            },
            "type": "scatter3d"
           }
          ],
          "scattercarpet": [
           {
            "marker": {
             "colorbar": {
              "outlinewidth": 0,
              "ticks": ""
             }
            },
            "type": "scattercarpet"
           }
          ],
          "scattergeo": [
           {
            "marker": {
             "colorbar": {
              "outlinewidth": 0,
              "ticks": ""
             }
            },
            "type": "scattergeo"
           }
          ],
          "scattergl": [
           {
            "marker": {
             "colorbar": {
              "outlinewidth": 0,
              "ticks": ""
             }
            },
            "type": "scattergl"
           }
          ],
          "scattermap": [
           {
            "marker": {
             "colorbar": {
              "outlinewidth": 0,
              "ticks": ""
             }
            },
            "type": "scattermap"
           }
          ],
          "scattermapbox": [
           {
            "marker": {
             "colorbar": {
              "outlinewidth": 0,
              "ticks": ""
             }
            },
            "type": "scattermapbox"
           }
          ],
          "scatterpolar": [
           {
            "marker": {
             "colorbar": {
              "outlinewidth": 0,
              "ticks": ""
             }
            },
            "type": "scatterpolar"
           }
          ],
          "scatterpolargl": [
           {
            "marker": {
             "colorbar": {
              "outlinewidth": 0,
              "ticks": ""
             }
            },
            "type": "scatterpolargl"
           }
          ],
          "scatterternary": [
           {
            "marker": {
             "colorbar": {
              "outlinewidth": 0,
              "ticks": ""
             }
            },
            "type": "scatterternary"
           }
          ],
          "surface": [
           {
            "colorbar": {
             "outlinewidth": 0,
             "ticks": ""
            },
            "colorscale": [
             [
              0,
              "#0d0887"
             ],
             [
              0.1111111111111111,
              "#46039f"
             ],
             [
              0.2222222222222222,
              "#7201a8"
             ],
             [
              0.3333333333333333,
              "#9c179e"
             ],
             [
              0.4444444444444444,
              "#bd3786"
             ],
             [
              0.5555555555555556,
              "#d8576b"
             ],
             [
              0.6666666666666666,
              "#ed7953"
             ],
             [
              0.7777777777777778,
              "#fb9f3a"
             ],
             [
              0.8888888888888888,
              "#fdca26"
             ],
             [
              1,
              "#f0f921"
             ]
            ],
            "type": "surface"
           }
          ],
          "table": [
           {
            "cells": {
             "fill": {
              "color": "#EBF0F8"
             },
             "line": {
              "color": "white"
             }
            },
            "header": {
             "fill": {
              "color": "#C8D4E3"
             },
             "line": {
              "color": "white"
             }
            },
            "type": "table"
           }
          ]
         },
         "layout": {
          "annotationdefaults": {
           "arrowcolor": "#2a3f5f",
           "arrowhead": 0,
           "arrowwidth": 1
          },
          "autotypenumbers": "strict",
          "coloraxis": {
           "colorbar": {
            "outlinewidth": 0,
            "ticks": ""
           }
          },
          "colorscale": {
           "diverging": [
            [
             0,
             "#8e0152"
            ],
            [
             0.1,
             "#c51b7d"
            ],
            [
             0.2,
             "#de77ae"
            ],
            [
             0.3,
             "#f1b6da"
            ],
            [
             0.4,
             "#fde0ef"
            ],
            [
             0.5,
             "#f7f7f7"
            ],
            [
             0.6,
             "#e6f5d0"
            ],
            [
             0.7,
             "#b8e186"
            ],
            [
             0.8,
             "#7fbc41"
            ],
            [
             0.9,
             "#4d9221"
            ],
            [
             1,
             "#276419"
            ]
           ],
           "sequential": [
            [
             0,
             "#0d0887"
            ],
            [
             0.1111111111111111,
             "#46039f"
            ],
            [
             0.2222222222222222,
             "#7201a8"
            ],
            [
             0.3333333333333333,
             "#9c179e"
            ],
            [
             0.4444444444444444,
             "#bd3786"
            ],
            [
             0.5555555555555556,
             "#d8576b"
            ],
            [
             0.6666666666666666,
             "#ed7953"
            ],
            [
             0.7777777777777778,
             "#fb9f3a"
            ],
            [
             0.8888888888888888,
             "#fdca26"
            ],
            [
             1,
             "#f0f921"
            ]
           ],
           "sequentialminus": [
            [
             0,
             "#0d0887"
            ],
            [
             0.1111111111111111,
             "#46039f"
            ],
            [
             0.2222222222222222,
             "#7201a8"
            ],
            [
             0.3333333333333333,
             "#9c179e"
            ],
            [
             0.4444444444444444,
             "#bd3786"
            ],
            [
             0.5555555555555556,
             "#d8576b"
            ],
            [
             0.6666666666666666,
             "#ed7953"
            ],
            [
             0.7777777777777778,
             "#fb9f3a"
            ],
            [
             0.8888888888888888,
             "#fdca26"
            ],
            [
             1,
             "#f0f921"
            ]
           ]
          },
          "colorway": [
           "#636efa",
           "#EF553B",
           "#00cc96",
           "#ab63fa",
           "#FFA15A",
           "#19d3f3",
           "#FF6692",
           "#B6E880",
           "#FF97FF",
           "#FECB52"
          ],
          "font": {
           "color": "#2a3f5f"
          },
          "geo": {
           "bgcolor": "white",
           "lakecolor": "white",
           "landcolor": "#E5ECF6",
           "showlakes": true,
           "showland": true,
           "subunitcolor": "white"
          },
          "hoverlabel": {
           "align": "left"
          },
          "hovermode": "closest",
          "mapbox": {
           "style": "light"
          },
          "paper_bgcolor": "white",
          "plot_bgcolor": "#E5ECF6",
          "polar": {
           "angularaxis": {
            "gridcolor": "white",
            "linecolor": "white",
            "ticks": ""
           },
           "bgcolor": "#E5ECF6",
           "radialaxis": {
            "gridcolor": "white",
            "linecolor": "white",
            "ticks": ""
           }
          },
          "scene": {
           "xaxis": {
            "backgroundcolor": "#E5ECF6",
            "gridcolor": "white",
            "gridwidth": 2,
            "linecolor": "white",
            "showbackground": true,
            "ticks": "",
            "zerolinecolor": "white"
           },
           "yaxis": {
            "backgroundcolor": "#E5ECF6",
            "gridcolor": "white",
            "gridwidth": 2,
            "linecolor": "white",
            "showbackground": true,
            "ticks": "",
            "zerolinecolor": "white"
           },
           "zaxis": {
            "backgroundcolor": "#E5ECF6",
            "gridcolor": "white",
            "gridwidth": 2,
            "linecolor": "white",
            "showbackground": true,
            "ticks": "",
            "zerolinecolor": "white"
           }
          },
          "shapedefaults": {
           "line": {
            "color": "#2a3f5f"
           }
          },
          "ternary": {
           "aaxis": {
            "gridcolor": "white",
            "linecolor": "white",
            "ticks": ""
           },
           "baxis": {
            "gridcolor": "white",
            "linecolor": "white",
            "ticks": ""
           },
           "bgcolor": "#E5ECF6",
           "caxis": {
            "gridcolor": "white",
            "linecolor": "white",
            "ticks": ""
           }
          },
          "title": {
           "x": 0.05
          },
          "xaxis": {
           "automargin": true,
           "gridcolor": "white",
           "linecolor": "white",
           "ticks": "",
           "title": {
            "standoff": 15
           },
           "zerolinecolor": "white",
           "zerolinewidth": 2
          },
          "yaxis": {
           "automargin": true,
           "gridcolor": "white",
           "linecolor": "white",
           "ticks": "",
           "title": {
            "standoff": 15
           },
           "zerolinecolor": "white",
           "zerolinewidth": 2
          }
         }
        }
       }
      }
     },
     "metadata": {},
     "output_type": "display_data"
    }
   ],
   "source": [
    "fig = px.scatter_mapbox(data_frame=cleaned_df, \n",
    "                        lat=\"Latitude\", \n",
    "                        lon=\"Longitude\",\n",
    "                        color=\"Property price (USD)\",\n",
    "                        hover_data=[\"Property price (USD)\", \"Zestimate (USD)\", \"City\", \"Living area\", \"Bedrooms\", \"Bathrooms\"],\n",
    "                        mapbox_style=\"carto-positron\")\n",
    "\n",
    "fig.show()"
   ]
  },
  {
   "cell_type": "code",
   "execution_count": 171,
   "id": "e8e9d6c0",
   "metadata": {},
   "outputs": [
    {
     "data": {
      "image/png": "[encoded data removed]",
      "text/plain": [
       "<Figure size 640x480 with 1 Axes>"
      ]
     },
     "metadata": {},
     "output_type": "display_data"
    }
   ],
   "source": [
    "sns.scatterplot(data=cleaned_df, x=\"Property price (USD)\", y=\"Number of days on Zillow\")\n",
    "\n",
    "plt.show()"
   ]
  },
  {
   "cell_type": "markdown",
   "id": "b1a8b513",
   "metadata": {},
   "source": [
    "# House Price by Bedrooms"
   ]
  },
  {
   "cell_type": "code",
   "execution_count": 172,
   "id": "4c109ed0",
   "metadata": {},
   "outputs": [
    {
     "data": {
      "image/png": "[encoded data removed]",
      "text/plain": [
       "<Figure size 640x480 with 1 Axes>"
      ]
     },
     "metadata": {},
     "output_type": "display_data"
    }
   ],
   "source": [
    "sns.scatterplot(data=cleaned_df,  x=\"Bedrooms\", y=\"Property price (USD)\")\n",
    "\n",
    "plt.show()"
   ]
  },
  {
   "cell_type": "markdown",
   "id": "e7db7ee6",
   "metadata": {},
   "source": [
    "# House Price by Bathrooms"
   ]
  },
  {
   "cell_type": "code",
   "execution_count": 173,
   "id": "7ff05df5",
   "metadata": {},
   "outputs": [
    {
     "data": {
      "image/png": "[encoded data removed]",
      "text/plain": [
       "<Figure size 640x480 with 1 Axes>"
      ]
     },
     "metadata": {},
     "output_type": "display_data"
    }
   ],
   "source": [
    "sns.scatterplot(data=cleaned_df,  x=\"Bathrooms\", y=\"Property price (USD)\")\n",
    "\n",
    "plt.show()"
   ]
  },
  {
   "cell_type": "markdown",
   "id": "692433e9",
   "metadata": {},
   "source": [
    "# House Price by Living Area"
   ]
  },
  {
   "cell_type": "code",
   "execution_count": 174,
   "id": "e7a39540",
   "metadata": {},
   "outputs": [
    {
     "data": {
      "image/png": "[encoded data removed]",
      "text/plain": [
       "<Figure size 640x480 with 1 Axes>"
      ]
     },
     "metadata": {},
     "output_type": "display_data"
    }
   ],
   "source": [
    "sns.scatterplot(data=cleaned_df,  x=\"Living area\", y=\"Property price (USD)\")\n",
    "\n",
    "plt.show()"
   ]
  },
  {
   "cell_type": "code",
   "execution_count": 175,
   "id": "30c6a7e4",
   "metadata": {},
   "outputs": [
    {
     "data": {
      "image/png": "[encoded data removed]",
      "text/plain": [
       "<Figure size 640x480 with 1 Axes>"
      ]
     },
     "metadata": {},
     "output_type": "display_data"
    }
   ],
   "source": [
    "sns.regplot(data=cleaned_df,  x=\"Living area\", y=\"Property price (USD)\")\n",
    "\n",
    "plt.show()"
   ]
  },
  {
   "cell_type": "code",
   "execution_count": 176,
   "id": "c4cfd883",
   "metadata": {},
   "outputs": [
    {
     "data": {
      "image/png": "[encoded data removed]",
      "text/plain": [
       "<Figure size 640x480 with 1 Axes>"
      ]
     },
     "metadata": {},
     "output_type": "display_data"
    }
   ],
   "source": [
    "sns.regplot(data=cleaned_df, x=\"Property price (USD)\", y=\"Zestimate (USD)\")\n",
    "plt.show()"
   ]
  },
  {
   "cell_type": "code",
   "execution_count": null,
   "id": "e07921de",
   "metadata": {},
   "outputs": [],
   "source": []
  }
 ],
 "metadata": {
  "kernelspec": {
   "display_name": "venv",
   "language": "python",
   "name": "python3"
  },
  "language_info": {
   "codemirror_mode": {
    "name": "ipython",
    "version": 3
   },
   "file_extension": ".py",
   "mimetype": "text/x-python",
   "name": "python",
   "nbconvert_exporter": "python",
   "pygments_lexer": "ipython3",
   "version": "3.13.3"
  }
 },
 "nbformat": 4,
 "nbformat_minor": 5
}
